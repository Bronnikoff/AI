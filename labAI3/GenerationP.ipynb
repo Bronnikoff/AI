{
 "cells": [
  {
   "cell_type": "markdown",
   "metadata": {
    "colab_type": "text",
    "id": "19KTco8R8eHc"
   },
   "source": [
    "#### Бронников Максим Андреевич"
   ]
  },
  {
   "cell_type": "markdown",
   "metadata": {
    "colab_type": "text",
    "id": "RDnvrSmp8eHh"
   },
   "source": [
    "*М8О-307Б-17, №4 по списку*"
   ]
  },
  {
   "cell_type": "markdown",
   "metadata": {
    "colab_type": "text",
    "id": "d_pVM1NJ8eHk"
   },
   "source": [
    "max120199@gmail.com"
   ]
  },
  {
   "cell_type": "markdown",
   "metadata": {
    "colab_type": "text",
    "id": "KiAC6M_08eHm"
   },
   "source": [
    "\n",
    "<table class=\"tfo-notebook-buttons\" align=\"left\">\n",
    "  <td>\n",
    "    <a target=\"_blank\" href=\"https://colab.research.google.com/github/Bronnikoff/GenerationP/blob/master/GenerationP.ipynb\"><img src=\"https://www.tensorflow.org/images/colab_logo_32px.png\" />Run in Google Colab</a>\n",
    "  </td>\n",
    "  <td>\n",
    "    <a target=\"_blank\" href=\"https://github.com/MAILabs-Edu-AI/lab-sequence-generation-Bronnikoff/blob/master/GenerationP.ipynb\"><img src=\"https://www.tensorflow.org/images/GitHub-Mark-32px.png\" />View source on GitHub</a>\n",
    "  </td>\n",
    "</table>"
   ]
  },
  {
   "cell_type": "markdown",
   "metadata": {
    "colab_type": "text",
    "id": "u2pRqtso8eHv"
   },
   "source": [
    "<h1>  <center>Лабораторная работа №3</center> </h1>"
   ]
  },
  {
   "cell_type": "markdown",
   "metadata": {
    "colab_type": "text",
    "id": "gh1K84Be8eHx"
   },
   "source": [
    "<h2> <center> Генерация текста </center> </h2>"
   ]
  },
  {
   "cell_type": "markdown",
   "metadata": {
    "colab_type": "text",
    "id": "kROd33NL8eH0"
   },
   "source": [
    "### Задание"
   ]
  },
  {
   "cell_type": "markdown",
   "metadata": {
    "colab_type": "text",
    "id": "wg7GaG8n8eH3"
   },
   "source": [
    "В данной лабораторной работе вам предстоит научиться генерировать последовательности типа, заданного по варианту, с помощью рекуррентных нейронных сетей.\n",
    "Необходимо исследовать несколько различных нейросетевых архитектур:\n",
    "\n",
    "* Обычная полносвязная RNN\n",
    "* Однослойная LSTM\n",
    "* Двухслойная LSTM\n",
    "* Однослойный GRU"
   ]
  },
  {
   "cell_type": "markdown",
   "metadata": {
    "colab_type": "text",
    "id": "Fd1FB6oH8eH5"
   },
   "source": [
    "**Вариант №4:** Проза на английском языке, элемент последовательности - одно слово."
   ]
  },
  {
   "cell_type": "code",
   "execution_count": 0,
   "metadata": {
    "colab": {
     "base_uri": "https://localhost:8080/",
     "height": 136
    },
    "colab_type": "code",
    "id": "SYorIsIL8eH8",
    "outputId": "c352a976-1d11-4368-d26f-93d0c3ca2896"
   },
   "outputs": [
    {
     "name": "stdout",
     "output_type": "stream",
     "text": [
      "\u001b[K     |████████████████████████████████| 7.0MB 2.8MB/s \n",
      "\u001b[K     |████████████████████████████████| 9.7MB 46.6MB/s \n",
      "\u001b[K     |████████████████████████████████| 51kB 5.7MB/s \n",
      "\u001b[K     |████████████████████████████████| 501kB 58.4MB/s \n",
      "\u001b[K     |████████████████████████████████| 51kB 3.7MB/s \n",
      "\u001b[?25h  Building wheel for tornado (setup.py) ... \u001b[?25l\u001b[?25hdone\n",
      "\u001b[31mERROR: google-colab 1.0.0 has requirement notebook~=5.2.0, but you'll have notebook 6.0.3 which is incompatible.\u001b[0m\n"
     ]
    }
   ],
   "source": [
    "! pip install jupyterthemes -q"
   ]
  },
  {
   "cell_type": "code",
   "execution_count": 0,
   "metadata": {
    "colab": {},
    "colab_type": "code",
    "id": "5SDo7qSV8eIh"
   },
   "outputs": [],
   "source": [
    "%%capture\n",
    "\n",
    "import tensorflow as tf\n",
    "from tensorflow.keras import Sequential\n",
    "from tensorflow.keras.layers import Embedding, GRU, LSTM, BatchNormalization\n",
    "from tensorflow.keras.layers import Dropout, Dense, SimpleRNN\n",
    "from tensorflow.keras.callbacks import ModelCheckpoint, EarlyStopping\n",
    "from gensim.models import Word2Vec\n",
    "\n",
    "import numpy as np\n",
    "\n",
    "\n",
    "import os\n",
    "import time\n",
    "from tqdm import tqdm\n",
    "\n",
    "import re\n",
    "\n",
    "import nltk\n",
    "nltk.download('all')\n",
    "\n",
    "import matplotlib\n",
    "from matplotlib import pyplot as plt\n",
    "from jupyterthemes import jtplot\n",
    "matplotlib.rcParams['figure.figsize'] = (15,10)\n",
    "jtplot.style('onedork')"
   ]
  },
  {
   "cell_type": "markdown",
   "metadata": {
    "colab_type": "text",
    "id": "TEkCBzuf8eIv"
   },
   "source": [
    "### Подготовка данных"
   ]
  },
  {
   "cell_type": "markdown",
   "metadata": {
    "colab_type": "text",
    "id": "1dFQ608P8eIx"
   },
   "source": [
    "#### Источник данных"
   ]
  },
  {
   "cell_type": "markdown",
   "metadata": {
    "colab_type": "text",
    "id": "jaBuswLL8eI0"
   },
   "source": [
    "Для составления датасета я воспользовался сайтом http://www.gutenberg.org с книгами, доступными для свободного скачивания.  "
   ]
  },
  {
   "cell_type": "markdown",
   "metadata": {
    "colab_type": "text",
    "id": "RSl4exOs8eI7"
   },
   "source": [
    "Списки книг вместе с ссылками на них:"
   ]
  },
  {
   "cell_type": "code",
   "execution_count": 0,
   "metadata": {
    "colab": {},
    "colab_type": "code",
    "id": "7wyMc-Uk8eI9"
   },
   "outputs": [],
   "source": [
    "books = [\"dorian_grey.txt\", \n",
    "         \"principe.txt\", \n",
    "         \"crime.txt\",\n",
    "         \"karenina.txt\",\n",
    "         \"baskerwill.txt\",\n",
    "         \"woman.txt\",\n",
    "         \"twist.txt\",\n",
    "         \"good.txt\",\n",
    "         \"garden.txt\"]\n",
    "\n",
    "urls = [\"http://www.gutenberg.org/cache/epub/174/pg174.txt\", \n",
    "        \"http://www.gutenberg.org/cache/epub/1232/pg1232.txt\",\n",
    "        \"https://www.gutenberg.org/files/2554/2554-0.txt\",\n",
    "        \"https://www.gutenberg.org/files/1399/1399-0.txt\",\n",
    "        \"https://www.gutenberg.org/files/2852/2852-0.txt\",\n",
    "        \"http://www.gutenberg.org/cache/epub/514/pg514.txt\",\n",
    "        \"http://www.gutenberg.org/cache/epub/730/pg730.txt\", \n",
    "        \"http://www.gutenberg.org/cache/epub/4363/pg4363.txt\",\n",
    "        \"https://www.gutenberg.org/files/113/113-0.txt\"]"
   ]
  },
  {
   "cell_type": "markdown",
   "metadata": {
    "colab_type": "text",
    "id": "J27QRTjo8eJW"
   },
   "source": [
    "#### Скачивание и обработка данных:"
   ]
  },
  {
   "cell_type": "markdown",
   "metadata": {
    "colab_type": "text",
    "id": "p-1rTtix8eJZ"
   },
   "source": [
    "Мы будем скачивать книги из списка, обрабатывать их, логически разбивать и объеденять их в один большой сет слов. Для этого опишем необходимые функции."
   ]
  },
  {
   "cell_type": "markdown",
   "metadata": {
    "colab_type": "text",
    "id": "MA4sVHcu8eJb"
   },
   "source": [
    "За скачивание текста отвечает встроенная в *keras* функция **get_file**."
   ]
  },
  {
   "cell_type": "markdown",
   "metadata": {
    "colab_type": "text",
    "id": "1UA-YuAq8eJf"
   },
   "source": [
    "Импорт текста из скачанной книги:"
   ]
  },
  {
   "cell_type": "code",
   "execution_count": 0,
   "metadata": {
    "colab": {},
    "colab_type": "code",
    "id": "KPF1e-Yc8eJi"
   },
   "outputs": [],
   "source": [
    "def text_from_file(filepath):\n",
    "    text = \"\"\n",
    "    with open(filepath, 'rb') as book:\n",
    "        text = book.read().decode(encoding='utf-8')\n",
    "    return text"
   ]
  },
  {
   "cell_type": "markdown",
   "metadata": {
    "colab_type": "text",
    "id": "hhhB6uLQ8eJ_"
   },
   "source": [
    "Импортированный текст помимо самого произведения несет информацию о самой книге, котороая засоряет текст. Попробуем очистить данные. Для очистки и обработки данных будем использовать *nltk*."
   ]
  },
  {
   "cell_type": "markdown",
   "metadata": {
    "colab_type": "text",
    "id": "LUDqu0t58eKC"
   },
   "source": [
    "Все книги *Проекта Гутенберг* имеют ряд технической информации в начале и конце. При этом для разделения этой информации от самого текста книги в каждом файле есть 2 сигнальные строки в начале и конце. Достанем текст, коорые между ними:"
   ]
  },
  {
   "cell_type": "code",
   "execution_count": 0,
   "metadata": {
    "colab": {},
    "colab_type": "code",
    "id": "ET17FzEL8eKE"
   },
   "outputs": [],
   "source": [
    "# May be done by regex more effective, but it works\n",
    "def clear_gutenberg(text):\n",
    "    # The first lines before \"*** START PROJECT .... ***\" useless\n",
    "    # cut text before this line\n",
    "    text = text[text.find(\"*** START\"):]\n",
    "    # and cut this line too\n",
    "    text = text[text.find(\"\\n\"):]\n",
    "    # and lines after \"*** END OF\" also useless, cut this\n",
    "    return text[:text.find(\"*** END OF\")]"
   ]
  },
  {
   "cell_type": "markdown",
   "metadata": {
    "colab_type": "text",
    "id": "pEgsF6bg8eKT"
   },
   "source": [
    "Некоторые книгии содержат места для вставок иллюстраций. Удалим эти вставки:"
   ]
  },
  {
   "cell_type": "code",
   "execution_count": 0,
   "metadata": {
    "colab": {},
    "colab_type": "code",
    "id": "vXNhQ3ny8eKV"
   },
   "outputs": [],
   "source": [
    "def clear_inserts(text):\n",
    "    return \"\".join(text.split(\"[Illustration]\"))"
   ]
  },
  {
   "cell_type": "markdown",
   "metadata": {
    "colab_type": "text",
    "id": "VP35OHVq8eKo"
   },
   "source": [
    "Но приведенная выше очистка недостаточна, поэтому разделим текст по главам, чтобы потом из них состовлять логически связанные последовательности. Возможны случаи, когда слово \"chapter\"\n",
    "встретится в тексте книги, однако считаем что такое разделение будет не фатальным."
   ]
  },
  {
   "cell_type": "code",
   "execution_count": 0,
   "metadata": {
    "colab": {},
    "colab_type": "code",
    "id": "pqQZCOSF8eKq"
   },
   "outputs": [],
   "source": [
    "def split_by_chapter(text, minlen = 1000):\n",
    "    ans = []\n",
    "    # search  chapter line:\n",
    "    search_res = re.search('\\n\\s*chapter[^\\n]+\\n', text, flags=re.IGNORECASE)\n",
    "    # if book without chapter this func return []\n",
    "    if search_res is None:\n",
    "        return ans\n",
    "    # index of first chapter\n",
    "    i = search_res.span()[1]\n",
    "    # and cat all text before with line:\n",
    "    text = text[i+1:]\n",
    "    \n",
    "    #do while:\n",
    "    search_res = re.search('\\n\\s*chapter[^\\n]+\\n', text, flags=re.IGNORECASE)\n",
    "    while not search_res is None:\n",
    "        # searchnew chapter line\n",
    "        match = search_res.span()\n",
    "        # take all text before\n",
    "        to_add = text[:match[0]]\n",
    "        # but it may be content-list, check by len of chapter:\n",
    "        if len(to_add) > minlen:\n",
    "            ans.append(text[:match[0]])\n",
    "        # and cut this text with chapter line\n",
    "        text = text[match[1]:]\n",
    "        # search new chapter line\n",
    "        search_res = re.search('\\n\\s*chapter[^\\n]+\\n', text, flags=re.IGNORECASE)\n",
    "    \n",
    "    # add last chapter\n",
    "    ans.append(text)\n",
    "    # retun splited text\n",
    "    return ans"
   ]
  },
  {
   "cell_type": "markdown",
   "metadata": {
    "colab_type": "text",
    "id": "EsZIn6cZ8eLD"
   },
   "source": [
    "Тогда объединенный текст глав всех книг можно получить объеденив вышеописанные функции. Объединённый текст - список из глав-текстов."
   ]
  },
  {
   "cell_type": "code",
   "execution_count": 0,
   "metadata": {
    "colab": {},
    "colab_type": "code",
    "id": "D2lThXfS8eLI"
   },
   "outputs": [],
   "source": [
    "def chapters_from_books(books, urls):\n",
    "    chapters = []\n",
    "    for book, url in zip(books, urls):\n",
    "        #download book:\n",
    "        filepath = tf.keras.utils.get_file(book, url)\n",
    "        # clear gutenberg info\n",
    "        text = clear_gutenberg(text_from_file(filepath))\n",
    "        # split by chapters, clear inserts and extend big dataset\n",
    "        chapters.extend(split_by_chapter(clear_inserts(text)))\n",
    "    return chapters"
   ]
  },
  {
   "cell_type": "markdown",
   "metadata": {
    "colab_type": "text",
    "id": "dxuyFnW58eLT"
   },
   "source": [
    "Теперь можно перевести текст  в список слов проведя токенизацию текста. Некоторые, стоящие в одинаковой форме, но в разном регистре могут существенно повлиять на размер словаря и на качество модели, поэтому проведем небольшую предобработку: переведем все несобственные слова в нижний регистр. Для этого воспользуемся **pos_tag** из  *nltk* для поиска имен собственных.\n",
    "\n",
    "Обычно для задач машинного обучения используют очистку от стоп-слов и преобразование к нормальной форме для наилучшего поиска смысловых связей между словами, однако наша задача как можно более похоже сымитировать человеческий текст, структура которого наполнена различными знаками препинания, междометиями и предлогами. Поэтому оставляем их в тексте в качестве отдельных слов."
   ]
  },
  {
   "cell_type": "code",
   "execution_count": 0,
   "metadata": {
    "colab": {},
    "colab_type": "code",
    "id": "2cNhEcVq8eLV"
   },
   "outputs": [],
   "source": [
    "def tokenize_text(text):\n",
    "    #list of words\n",
    "    ans = []\n",
    "    tagged = nltk.pos_tag(nltk.word_tokenize(text))\n",
    "    for tag in tagged:\n",
    "        if tag[1] != 'NNP':\n",
    "            ans.append(tag[0].lower())\n",
    "        else:\n",
    "            ans.append(tag[0])\n",
    "    # list of lower words\n",
    "    return ans"
   ]
  },
  {
   "cell_type": "markdown",
   "metadata": {
    "colab_type": "text",
    "id": "xEztNOI18eLl"
   },
   "source": [
    "Тогда функция получения списка токенезированных глав:"
   ]
  },
  {
   "cell_type": "code",
   "execution_count": 0,
   "metadata": {
    "colab": {},
    "colab_type": "code",
    "id": "s9WAx5kj8eLr"
   },
   "outputs": [],
   "source": [
    " def tokenize_data(chapters):\n",
    "        ans = []\n",
    "        for chapter in tqdm(chapters):\n",
    "            ans.append(tokenize_text(chapter))\n",
    "        return ans\n",
    "#         return = list(map(tokenize_text, chapters))"
   ]
  },
  {
   "cell_type": "markdown",
   "metadata": {
    "colab_type": "text",
    "id": "SbrtcHOX8eL1"
   },
   "source": [
    "Импортируем данные с применением полученных функций:"
   ]
  },
  {
   "cell_type": "code",
   "execution_count": 0,
   "metadata": {
    "colab": {
     "base_uri": "https://localhost:8080/",
     "height": 357
    },
    "colab_type": "code",
    "id": "8vXD0ZoK8eL4",
    "outputId": "2d793d03-c5c0-4133-9556-766dd5b7e5fe"
   },
   "outputs": [
    {
     "name": "stdout",
     "output_type": "stream",
     "text": [
      "Downloading data from http://www.gutenberg.org/cache/epub/174/pg174.txt\n",
      "466944/462075 [==============================] - 2s 5us/step\n",
      "Downloading data from http://www.gutenberg.org/cache/epub/1232/pg1232.txt\n",
      "311296/305853 [==============================] - 2s 5us/step\n",
      "Downloading data from https://www.gutenberg.org/files/2554/2554-0.txt\n",
      "1204224/1201735 [==============================] - 4s 3us/step\n",
      "Downloading data from https://www.gutenberg.org/files/1399/1399-0.txt\n",
      "2072576/2068079 [==============================] - 4s 2us/step\n",
      "Downloading data from https://www.gutenberg.org/files/2852/2852-0.txt\n",
      "393216/388106 [==============================] - 2s 5us/step\n",
      "Downloading data from http://www.gutenberg.org/cache/epub/514/pg514.txt\n",
      "1056768/1053504 [==============================] - 3s 3us/step\n",
      "Downloading data from http://www.gutenberg.org/cache/epub/730/pg730.txt\n",
      "942080/936253 [==============================] - 3s 3us/step\n",
      "Downloading data from http://www.gutenberg.org/cache/epub/4363/pg4363.txt\n",
      "409600/408778 [==============================] - 2s 5us/step\n",
      "Downloading data from https://www.gutenberg.org/files/113/113-0.txt\n",
      "483328/475383 [==============================] - 2s 5us/step\n",
      "\n",
      "Общий текст состоит из 476 глав!\n"
     ]
    }
   ],
   "source": [
    "chaps = chapters_from_books(books, urls)\n",
    "\n",
    "print('\\nОбщий текст состоит из {} глав!'.format(len(chaps)))"
   ]
  },
  {
   "cell_type": "markdown",
   "metadata": {
    "colab_type": "text",
    "id": "hBzRGxC08eMN"
   },
   "source": [
    "И токенезируем их:"
   ]
  },
  {
   "cell_type": "code",
   "execution_count": 0,
   "metadata": {
    "colab": {
     "base_uri": "https://localhost:8080/",
     "height": 34
    },
    "colab_type": "code",
    "id": "Rw3_0nju8eMP",
    "outputId": "1f0fadd1-ed30-4f65-e4cb-c8499c9dc6cb"
   },
   "outputs": [
    {
     "name": "stderr",
     "output_type": "stream",
     "text": [
      "100%|██████████| 476/476 [00:52<00:00,  9.05it/s]\n"
     ]
    }
   ],
   "source": [
    "chaps = tokenize_data(chaps)"
   ]
  },
  {
   "cell_type": "markdown",
   "metadata": {
    "colab_type": "text",
    "id": "1VHWSDMA8eMl"
   },
   "source": [
    "На данный момент мы преобразовали книги в последовательности слов, разбитые по главам."
   ]
  },
  {
   "cell_type": "markdown",
   "metadata": {
    "colab_type": "text",
    "id": "M0lNNkiF8eMs"
   },
   "source": [
    "#### Разбитие текста на последовательности слов."
   ]
  },
  {
   "cell_type": "markdown",
   "metadata": {
    "colab_type": "text",
    "id": "j__mN98e8eMt"
   },
   "source": [
    "Разбивка будет происходить на последовательности длины **SEQ_LENGTH**."
   ]
  },
  {
   "cell_type": "code",
   "execution_count": 0,
   "metadata": {
    "colab": {},
    "colab_type": "code",
    "id": "PRCAOJTX8eMv"
   },
   "outputs": [],
   "source": [
    "SEQ_LENGTH = 65"
   ]
  },
  {
   "cell_type": "markdown",
   "metadata": {
    "colab_type": "text",
    "id": "eHn9smis8eM6"
   },
   "source": [
    "Каждую главу разбиваем на последовательности длины **SEQ_LENGTH + 1**, после чего производим объединение глав в один датасет. Разбитие было нужно для того, чтобы конец одной главы не засорял начало другой. В данном варианте мы избавляемся от последних слов глав."
   ]
  },
  {
   "cell_type": "code",
   "execution_count": 0,
   "metadata": {
    "colab": {},
    "colab_type": "code",
    "id": "NWNKnYkA8eM_"
   },
   "outputs": [],
   "source": [
    "def chapter_sequences(chapter, seq_len = 51):\n",
    "    sequences = []\n",
    "    i = 0\n",
    "    for j in range(seq_len, len(chapter), seq_len):\n",
    "        sequences.append(chapter[i:j])\n",
    "        i = j\n",
    "    return sequences\n",
    "\n",
    "def sequences_set(chapters, seq_len = 50):\n",
    "    sequences = []\n",
    "    for chapter in tqdm(chapters):\n",
    "        sequences.extend(chapter_sequences(chapter, seq_len))\n",
    "    return sequences"
   ]
  },
  {
   "cell_type": "code",
   "execution_count": 0,
   "metadata": {
    "colab": {
     "base_uri": "https://localhost:8080/",
     "height": 51
    },
    "colab_type": "code",
    "id": "X0i-Qhm_8eNJ",
    "outputId": "93244d9b-de41-4a52-cca8-4c8d376ed107"
   },
   "outputs": [
    {
     "name": "stderr",
     "output_type": "stream",
     "text": [
      "100%|██████████| 476/476 [00:00<00:00, 9577.18it/s]"
     ]
    },
    {
     "name": "stdout",
     "output_type": "stream",
     "text": [
      "Общий датасет содержит 22376 последовательности!\n"
     ]
    },
    {
     "name": "stderr",
     "output_type": "stream",
     "text": [
      "\n"
     ]
    }
   ],
   "source": [
    "seqs = sequences_set(chaps, SEQ_LENGTH + 1)\n",
    "print('Общий датасет содержит {} последовательности!'.format(len(seqs)))"
   ]
  },
  {
   "cell_type": "markdown",
   "metadata": {
    "colab_type": "text",
    "id": "JN-vE1WB8eNX"
   },
   "source": [
    "#### Создание словаря и векторизация слов"
   ]
  },
  {
   "cell_type": "markdown",
   "metadata": {
    "colab_type": "text",
    "id": "j9nSq-908eNZ"
   },
   "source": [
    "За создание словаря и векторизацию слов будет ответственнена модель *Word2Vec*, которая позволит находить логические взаимосвязи между словами последовательностей слов. В словарь будут добавляться слова, которые встречались в объединенном сете хотя бы **MIN_COUNT** раз. Это нужно для экономии ресурсов и для более качественного распознавания связей в последовательностях.\n",
    "\n",
    "Далее нужно будет осторожно обращаться с теми словами, которые не попали в словарь."
   ]
  },
  {
   "cell_type": "markdown",
   "metadata": {
    "colab_type": "text",
    "id": "XLS-1_zx8eNb"
   },
   "source": [
    "*Word2Vec* затратный метод, однако он позволит нам создать предобученную матрицу из векторов для каждого из слов, которую можно использовать в качестве входного слоя нашей *RNN* для повышения качества обученной в последствии модели. "
   ]
  },
  {
   "cell_type": "code",
   "execution_count": 0,
   "metadata": {
    "colab": {
     "base_uri": "https://localhost:8080/",
     "height": 51
    },
    "colab_type": "code",
    "id": "Tvhlw9WU8eNd",
    "outputId": "c9ca92fd-c774-4f24-905b-b8addc6d2a16"
   },
   "outputs": [
    {
     "name": "stdout",
     "output_type": "stream",
     "text": [
      "\n",
      "Модель обучалась 79.27673578262329 секунд\n"
     ]
    }
   ],
   "source": [
    "start = time.time()\n",
    "w2v = Word2Vec(seqs, min_count=2, size = 510, workers = 4, iter = 27, alpha = 0.1)\n",
    "end = time.time()\n",
    "\n",
    "print('\\nМодель обучалась {} секунд'.format(end - start))"
   ]
  },
  {
   "cell_type": "markdown",
   "metadata": {
    "colab_type": "text",
    "id": "P_8G3qMx8eNs"
   },
   "source": [
    "Для обучения слов необходимо преобразовать их в численный вид, а для интерпретации ответов *RNN*, напротив, нужно преобразовать числа в слова. Для этого создадим 2 структуры с биективным отображением одной в другую."
   ]
  },
  {
   "cell_type": "code",
   "execution_count": 0,
   "metadata": {
    "colab": {},
    "colab_type": "code",
    "id": "0Aiu9_4H8eNu"
   },
   "outputs": [],
   "source": [
    "def enumerated_w2v_vocabs(w2v):\n",
    "    word2idx = {}\n",
    "    idx2word = []\n",
    "    for word in w2v.wv.vocab:\n",
    "        word2idx[word] = len(idx2word)\n",
    "        idx2word.append(word)\n",
    "    return word2idx, idx2word"
   ]
  },
  {
   "cell_type": "code",
   "execution_count": 0,
   "metadata": {
    "colab": {
     "base_uri": "https://localhost:8080/",
     "height": 51
    },
    "colab_type": "code",
    "id": "u319IEEL8eN6",
    "outputId": "e04cc186-8df0-4bce-cb16-bae5fc252ece"
   },
   "outputs": [
    {
     "name": "stdout",
     "output_type": "stream",
     "text": [
      "\n",
      "Размер словаря: 20353 слов\n"
     ]
    }
   ],
   "source": [
    "word2idx, idx2word = enumerated_w2v_vocabs(w2v)\n",
    "# convert to numpy for comfortable converts\n",
    "idx2word = np.array(idx2word)\n",
    "print('\\nРазмер словаря: {} слов'.format(len(idx2word)))"
   ]
  },
  {
   "cell_type": "markdown",
   "metadata": {
    "colab_type": "text",
    "id": "IfDfBum18eOX"
   },
   "source": [
    "#### Тренировочный датасет"
   ]
  },
  {
   "cell_type": "markdown",
   "metadata": {
    "colab_type": "text",
    "id": "Fk8fdY3J8eOZ"
   },
   "source": [
    "Теперь мы можем преобразовать список последовательностей слов в датасет численных тензоров длины **SEQ_LENGTH**, разбитых на пакеты размера **BATCH_SIZE**."
   ]
  },
  {
   "cell_type": "code",
   "execution_count": 0,
   "metadata": {
    "colab": {},
    "colab_type": "code",
    "id": "6mZUPNEE8eOf"
   },
   "outputs": [],
   "source": [
    "BATCH_SIZE = 128"
   ]
  },
  {
   "cell_type": "markdown",
   "metadata": {
    "colab_type": "text",
    "id": "moYp3P1r8eOp"
   },
   "source": [
    "Функция перевода слова в число. Для слов, не присутствующих в словаре будем грубо возращать дефолтное значение, которое по умолчанию для симола *точка*."
   ]
  },
  {
   "cell_type": "code",
   "execution_count": 0,
   "metadata": {
    "colab": {},
    "colab_type": "code",
    "id": "582vroM48eOr"
   },
   "outputs": [],
   "source": [
    "def word_to_int(word, word2idx, default = '.'):\n",
    "    if word in word2idx:\n",
    "        return word2idx[word]\n",
    "    return word2idx[default]"
   ]
  },
  {
   "cell_type": "markdown",
   "metadata": {
    "colab_type": "text",
    "id": "LbaZ7-oe8eOz"
   },
   "source": [
    "Функция перевода списка последовательностей слов в список последовательностей индексов."
   ]
  },
  {
   "cell_type": "code",
   "execution_count": 0,
   "metadata": {
    "colab": {},
    "colab_type": "code",
    "id": "lGWxhxW-8eO1"
   },
   "outputs": [],
   "source": [
    "def integer_sequences(sequences, word2idx):\n",
    "    ans = []\n",
    "    converter = lambda x: word_to_int(x, word2idx)\n",
    "    for seq in tqdm(sequences):\n",
    "        ans.append(list(map(converter, seq)))\n",
    "    return ans"
   ]
  },
  {
   "cell_type": "markdown",
   "metadata": {
    "colab_type": "text",
    "id": "vNY9c65Y8eO-"
   },
   "source": [
    "Переведём последовательности чисел в тензорный вид. "
   ]
  },
  {
   "cell_type": "code",
   "execution_count": 0,
   "metadata": {
    "colab": {
     "base_uri": "https://localhost:8080/",
     "height": 34
    },
    "colab_type": "code",
    "id": "bZl9fNk38ePA",
    "outputId": "8fb1be85-0a21-44fc-f171-e31c1b8d6b86"
   },
   "outputs": [
    {
     "name": "stderr",
     "output_type": "stream",
     "text": [
      "100%|██████████| 22376/22376 [00:00<00:00, 52980.36it/s]\n"
     ]
    }
   ],
   "source": [
    "dataset = integer_sequences(seqs, word2idx)\n",
    "\n",
    "dataset = tf.data.Dataset.from_tensor_slices(dataset)"
   ]
  },
  {
   "cell_type": "markdown",
   "metadata": {
    "colab_type": "text",
    "id": "mL-sfbXt8ePS"
   },
   "source": [
    "К этому моменту мы имеем набор из последовательностей по **SEQ_LENGTH + 1** чисел. Для обучения следует разбить этот датасет на 2 столбца:\n",
    "\n",
    "1. Обучающие последовательности из перых SEQ_LENGTH элементов.\n",
    "2. Тестовые последовательности из последних SEQ_LENGTH элементов.\n",
    "    \n",
    "Так каждому слову последовательности в обучающей части будет поставлено в соответствие следующее по порядку слово в тестовой части тренировочного набора."
   ]
  },
  {
   "cell_type": "code",
   "execution_count": 0,
   "metadata": {
    "colab": {},
    "colab_type": "code",
    "id": "cnh4wB_v8ePX"
   },
   "outputs": [],
   "source": [
    "# Code from tensorflow tutuorial\n",
    "def split_input_target(chunk):\n",
    "    input_text = chunk[:-1]\n",
    "    target_text = chunk[1:]\n",
    "    return input_text, target_text\n",
    "\n",
    "dataset = dataset.map(split_input_target)"
   ]
  },
  {
   "cell_type": "markdown",
   "metadata": {
    "colab_type": "text",
    "id": "HJczx-IL8ePg"
   },
   "source": [
    "Для ускорения обучения и лучшей апроксимации уреднённого градиента от всего набора при обучении перемешаем последовательности в наборе и разобъем их на наборы по **BATCH_SIZE** элементов."
   ]
  },
  {
   "cell_type": "code",
   "execution_count": 0,
   "metadata": {
    "colab": {
     "base_uri": "https://localhost:8080/",
     "height": 34
    },
    "colab_type": "code",
    "id": "IhVCUzw98ePh",
    "outputId": "baecf7e5-f944-448b-e14d-e0857050a027"
   },
   "outputs": [
    {
     "data": {
      "text/plain": [
       "<BatchDataset shapes: ((128, 65), (128, 65)), types: (tf.int32, tf.int32)>"
      ]
     },
     "execution_count": 24,
     "metadata": {
      "tags": []
     },
     "output_type": "execute_result"
    }
   ],
   "source": [
    "# Code from tensorflow tutuorial\n",
    "BUFFER_SIZE = 10000\n",
    "\n",
    "dataset = dataset.shuffle(BUFFER_SIZE).batch(BATCH_SIZE, drop_remainder=True)\n",
    "\n",
    "dataset"
   ]
  },
  {
   "cell_type": "markdown",
   "metadata": {
    "colab_type": "text",
    "id": "I0H6LGLR8ePr"
   },
   "source": [
    "Датасет готов к обучению модели!"
   ]
  },
  {
   "cell_type": "markdown",
   "metadata": {
    "colab_type": "text",
    "id": "SUjhyGYM8ePt"
   },
   "source": [
    "### Проектирование моделей"
   ]
  },
  {
   "cell_type": "markdown",
   "metadata": {
    "colab_type": "text",
    "id": "u2JrBhB-8ePv"
   },
   "source": [
    "#### Полносвязная RNN"
   ]
  },
  {
   "cell_type": "markdown",
   "metadata": {
    "colab_type": "text",
    "id": "_O-cfJli8ePw"
   },
   "source": [
    "Директория для данных модели:"
   ]
  },
  {
   "cell_type": "code",
   "execution_count": 0,
   "metadata": {
    "colab": {},
    "colab_type": "code",
    "id": "lJcaVxjy8ePy"
   },
   "outputs": [],
   "source": [
    "RNN_DIR = \"./full_rnn\""
   ]
  },
  {
   "cell_type": "code",
   "execution_count": 0,
   "metadata": {
    "colab": {},
    "colab_type": "code",
    "id": "XvFieFmn8eP-"
   },
   "outputs": [],
   "source": [
    "! mkdir -p full_rnn"
   ]
  },
  {
   "cell_type": "markdown",
   "metadata": {
    "colab_type": "text",
    "id": "_d-j6p2L8eQL"
   },
   "source": [
    "Наша *полносвязная RNN* будет состоять из следующих слоёв:\n",
    "1. Входной *embedding* слой, преобразующий все слова последовательностей в векторный вид. Этот слой будет начально иницализирован весами предобученной *Word2Vec* модели.\n",
    "\n",
    "2. Полносвязный рекуррентный слой с функцией инициализации *Ксавьера*, требуемый по заданию.\n",
    "\n",
    "\n",
    "3. Выходной слой сети с размерностью - размером словаря."
   ]
  },
  {
   "cell_type": "code",
   "execution_count": 0,
   "metadata": {
    "colab": {},
    "colab_type": "code",
    "id": "zM2TH1dL8eQM"
   },
   "outputs": [],
   "source": [
    "def ModelRNN(w2v, batch_size, rnn_units = 512, neuros = 128, drop_rate = 0.1):\n",
    "    vocab_size = len(w2v.wv.vocab)\n",
    "    model = Sequential([\n",
    "      # 1 layer\n",
    "        Embedding(vocab_size, w2v.vector_size, \n",
    "                  batch_input_shape=[batch_size, None], weights=[w2v.wv.vectors]),\n",
    "      # 2 layer \n",
    "        SimpleRNN(rnn_units, return_sequences=True, stateful=False, \n",
    "          recurrent_initializer='glorot_uniform'), \n",
    "      # 3 layer\n",
    "        #Dropout(drop_rate),\n",
    "        #BatchNormalization(),\n",
    "        #Dense(neuros, kernel_initializer=\"he_uniform\", activation='relu'),\n",
    "      # 4 layer\n",
    "        Dense(vocab_size, kernel_initializer=\"glorot_uniform\")\n",
    "    ])\n",
    "    return model"
   ]
  },
  {
   "cell_type": "markdown",
   "metadata": {
    "colab_type": "text",
    "id": "SYOtrWTm8eQV"
   },
   "source": [
    "#### Однослойная LSTM"
   ]
  },
  {
   "cell_type": "markdown",
   "metadata": {
    "colab_type": "text",
    "id": "psFeLVFl8eQd"
   },
   "source": [
    "Директория для данных модели:"
   ]
  },
  {
   "cell_type": "code",
   "execution_count": 0,
   "metadata": {
    "colab": {},
    "colab_type": "code",
    "id": "hq1C5tEa8eQe"
   },
   "outputs": [],
   "source": [
    "SINGLE_DIR = \"./single_lstm\""
   ]
  },
  {
   "cell_type": "code",
   "execution_count": 0,
   "metadata": {
    "colab": {},
    "colab_type": "code",
    "id": "Wcz4-kXt8eQp"
   },
   "outputs": [],
   "source": [
    "! mkdir -p single_lstm"
   ]
  },
  {
   "cell_type": "markdown",
   "metadata": {
    "colab_type": "text",
    "id": "ZF8HBc358eQ8"
   },
   "source": [
    "Наша *однослойная LSTM* будет состоять из следующих слоёв:\n",
    "1. Входной *embedding* слой, преобразующий все слова последовательностей в векторный вид. Этот слой будет начально иницализирован весами предобученной *Word2Vec* модели.\n",
    "\n",
    "2. *LSTM* слой с функцией инициализации *Ксавьера*, требуемый по заданию.\n",
    "\n",
    "3. Выходной слой сети с размерностью - размером словаря."
   ]
  },
  {
   "cell_type": "code",
   "execution_count": 0,
   "metadata": {
    "colab": {},
    "colab_type": "code",
    "id": "xXrKUF1w8eQ9"
   },
   "outputs": [],
   "source": [
    "def ModelSingleLSTM(w2v, batch_size, rnn_units = 512, neuros = 128, drop_rate = 0.1):\n",
    "    vocab_size = len(w2v.wv.vocab)\n",
    "    model = Sequential([\n",
    "      # 1 layer\n",
    "        Embedding(vocab_size, w2v.vector_size, \n",
    "                  batch_input_shape=[batch_size, None], weights=[w2v.wv.vectors]),\n",
    "      # 2 layer \n",
    "        LSTM(rnn_units, return_sequences=True, stateful=False, \n",
    "          recurrent_initializer='glorot_uniform'), \n",
    "      # 3 layer\n",
    "        #Dropout(drop_rate),\n",
    "        #BatchNormalization(),\n",
    "        #Dense(neuros, kernel_initializer=\"he_uniform\", activation='relu'),\n",
    "      # 4 layer\n",
    "        Dense(vocab_size, kernel_initializer=\"glorot_uniform\")\n",
    "    ])\n",
    "    return model"
   ]
  },
  {
   "cell_type": "markdown",
   "metadata": {
    "colab_type": "text",
    "id": "z3yS3RNf8eRG"
   },
   "source": [
    "#### Двухслойная LSTM"
   ]
  },
  {
   "cell_type": "markdown",
   "metadata": {
    "colab_type": "text",
    "id": "AaBRWQRT8eRI"
   },
   "source": [
    "Директория для данных модели:"
   ]
  },
  {
   "cell_type": "code",
   "execution_count": 0,
   "metadata": {
    "colab": {},
    "colab_type": "code",
    "id": "zruKkNFc8eRK"
   },
   "outputs": [],
   "source": [
    "DOUBLE_DIR = \"./double_lstm\""
   ]
  },
  {
   "cell_type": "code",
   "execution_count": 0,
   "metadata": {
    "colab": {},
    "colab_type": "code",
    "id": "8ddLRzfZ8eRc"
   },
   "outputs": [],
   "source": [
    "! mkdir -p double_lstm"
   ]
  },
  {
   "cell_type": "markdown",
   "metadata": {
    "colab_type": "text",
    "id": "3NC2nTyn8eR-"
   },
   "source": [
    "Наша *двухслойная LSTM* будет состоять из следующих слоёв:\n",
    "1. Входной *embedding* слой, преобразующий все слова последовательностей в векторный вид. Этот слой будет начально иницализирован весами предобученной *Word2Vec* модели.\n",
    "\n",
    "2. Первый *LSTM* слой с функцией инициализации *Ксавьера*, требуемый по заданию.\n",
    "3. Второй *LSTM* слой с функцией инициализации *Ксавьера*, требуемый по заданию.\n",
    "\n",
    "4. Выходной слой сети с размерностью - размером словаря."
   ]
  },
  {
   "cell_type": "code",
   "execution_count": 0,
   "metadata": {
    "colab": {},
    "colab_type": "code",
    "id": "TIpn7K9y8eSH"
   },
   "outputs": [],
   "source": [
    "def ModelDoubleLSTM(w2v, batch_size, rnn_units = 512, neuros = 128, drop_rate = 0.1):\n",
    "    vocab_size = len(w2v.wv.vocab)\n",
    "    model = Sequential([\n",
    "      # 1 layer\n",
    "        Embedding(vocab_size, w2v.vector_size, \n",
    "                  batch_input_shape=[batch_size, None], weights=[w2v.wv.vectors]),\n",
    "      # 2 layer \n",
    "        LSTM(rnn_units, return_sequences=True, stateful=False, \n",
    "          recurrent_initializer='glorot_uniform'), \n",
    "      # 3 layer\n",
    "        LSTM(rnn_units, return_sequences=True, stateful=False, \n",
    "          recurrent_initializer='glorot_uniform'),\n",
    "      # 4 layer\n",
    "        #Dropout(drop_rate),\n",
    "        #BatchNormalization(),\n",
    "        #Dense(neuros, kernel_initializer=\"he_uniform\", activation='relu'),\n",
    "      # 5 layer\n",
    "        Dense(vocab_size, kernel_initializer=\"glorot_uniform\")\n",
    "    ])\n",
    "    return model"
   ]
  },
  {
   "cell_type": "markdown",
   "metadata": {
    "colab_type": "text",
    "id": "fUvaLJJs8eSR"
   },
   "source": [
    "#### Однослойный GRU"
   ]
  },
  {
   "cell_type": "markdown",
   "metadata": {
    "colab_type": "text",
    "id": "tow6Fxvm8eST"
   },
   "source": [
    "Директория для данных модели:"
   ]
  },
  {
   "cell_type": "code",
   "execution_count": 0,
   "metadata": {
    "colab": {},
    "colab_type": "code",
    "id": "yTNRw_Jv8eSV"
   },
   "outputs": [],
   "source": [
    "GRU_DIR = \"./single_gru\""
   ]
  },
  {
   "cell_type": "code",
   "execution_count": 0,
   "metadata": {
    "colab": {},
    "colab_type": "code",
    "id": "auMkDsRp8eSj"
   },
   "outputs": [],
   "source": [
    "! mkdir -p single_gru"
   ]
  },
  {
   "cell_type": "markdown",
   "metadata": {
    "colab_type": "text",
    "id": "i3_-rlkq8eSx"
   },
   "source": [
    "Наша *однослойная GRU* будет состоять из следующих слоёв:\n",
    "1. Входной *embedding* слой, преобразующий все слова последовательностей в векторный вид. Этот слой будет начально иницализирован весами предобученной *Word2Vec* модели.\n",
    "\n",
    "2. *GRU* слой с функцией инициализации *Ксавьера*, требуемый по заданию.\n",
    "\n",
    "3. Выходной слой сети с размерностью - размером словаря."
   ]
  },
  {
   "cell_type": "code",
   "execution_count": 0,
   "metadata": {
    "colab": {},
    "colab_type": "code",
    "id": "yyub4Bpv8eSy"
   },
   "outputs": [],
   "source": [
    "def ModelGRU(w2v, batch_size, rnn_units = 512, neuros = 128, drop_rate = 0.1):\n",
    "    vocab_size = len(w2v.wv.vocab)\n",
    "    model = Sequential([\n",
    "      # 1 layer\n",
    "        Embedding(vocab_size, w2v.vector_size, \n",
    "                  batch_input_shape=[batch_size, None], weights=[w2v.wv.vectors]),\n",
    "      # 2 layer \n",
    "        GRU(rnn_units, return_sequences=True, stateful=False, \n",
    "          recurrent_initializer='glorot_uniform'), \n",
    "      # 3 layer\n",
    "        #Dropout(drop_rate),\n",
    "        #BatchNormalization(),\n",
    "        #Dense(neuros, kernel_initializer=\"he_uniform\", activation='relu'),\n",
    "      # 4 layer\n",
    "        Dense(vocab_size, kernel_initializer=\"glorot_uniform\")\n",
    "    ])\n",
    "    return model"
   ]
  },
  {
   "cell_type": "markdown",
   "metadata": {
    "colab_type": "text",
    "id": "XM6v3kMG8eTD"
   },
   "source": [
    "#### Гиперпараметры"
   ]
  },
  {
   "cell_type": "markdown",
   "metadata": {
    "colab_type": "text",
    "id": "Z8O49JcW8eTF"
   },
   "source": [
    "*rnn_units*, *neuros* и *drop_rate* - гиперпараметры модели, которые следует настраивать для получения наилучшего результата. Также гиперпараметрами являются и длина последовательностей вместе с размером пакетов, однако их настройка происходит раньше, поскольку от них зависит формат данных."
   ]
  },
  {
   "cell_type": "markdown",
   "metadata": {
    "colab_type": "text",
    "id": "YOihKoMq8eTN"
   },
   "source": [
    "### Обучение моделей"
   ]
  },
  {
   "cell_type": "markdown",
   "metadata": {
    "colab_type": "text",
    "id": "3RIjGO7E8eTO"
   },
   "source": [
    "При обучении полезно сохранять параметры обученной модели в *чекпоинты*. Для этого при обучении модели следует передать ей структуру, созданием которой занимается эта функция."
   ]
  },
  {
   "cell_type": "code",
   "execution_count": 0,
   "metadata": {
    "colab": {},
    "colab_type": "code",
    "id": "z7jYEU8Q8eTQ"
   },
   "outputs": [],
   "source": [
    "def checkpoint_creator(checkpoint_dir = \"./\"):\n",
    "    checkpoint_prefix = os.path.join(checkpoint_dir, \"checkpoints/ckpt_model\")\n",
    "    checkpoint_callback = ModelCheckpoint(monitor=\"loss\", \n",
    "                                          filepath=checkpoint_prefix,\n",
    "                                          save_weights_only=True, \n",
    "                                          save_best_only=True)\n",
    "    return checkpoint_callback"
   ]
  },
  {
   "cell_type": "markdown",
   "metadata": {
    "colab_type": "text",
    "id": "e5VN_Ql58eTZ"
   },
   "source": [
    "Функция потерь, используемая при обучении."
   ]
  },
  {
   "cell_type": "code",
   "execution_count": 0,
   "metadata": {
    "colab": {},
    "colab_type": "code",
    "id": "82a35lEx8eTe"
   },
   "outputs": [],
   "source": [
    "# code from tensorflow tutorial\n",
    "def loss(labels, logits):\n",
    "  return tf.keras.losses.sparse_categorical_crossentropy(labels, logits, from_logits=True)"
   ]
  },
  {
   "cell_type": "markdown",
   "metadata": {
    "colab_type": "text",
    "id": "SRZ0b1cN8eTn"
   },
   "source": [
    "Общие гиперпараметры моделей опишем здесь. В большинстве случаев для отдельной модели необходимо подбирать отдельные гиперпараметры, однако в данном случае нас интересует сравнить работу разных архетектур нейросетевых моделей, для чего лучше работать с фиксированным набором параметров для всех моделей."
   ]
  },
  {
   "cell_type": "code",
   "execution_count": 0,
   "metadata": {
    "colab": {},
    "colab_type": "code",
    "id": "VeQ1n-m48eTz"
   },
   "outputs": [],
   "source": [
    "RATE = 0.15\n",
    "NEUROS = 512\n",
    "UNITS = 1024\n",
    "\n",
    "EPOCHS = 90"
   ]
  },
  {
   "cell_type": "markdown",
   "metadata": {
    "colab_type": "text",
    "id": "2gKa7Juy0S9u"
   },
   "source": [
    "Соберём модель."
   ]
  },
  {
   "cell_type": "markdown",
   "metadata": {
    "colab_type": "text",
    "id": "L9qm39Pq8eT-"
   },
   "source": [
    "*Полносвязная RNN:*"
   ]
  },
  {
   "cell_type": "code",
   "execution_count": 0,
   "metadata": {
    "colab": {
     "base_uri": "https://localhost:8080/",
     "height": 255
    },
    "colab_type": "code",
    "id": "FGkXv2WI8eUB",
    "outputId": "4616bc96-f28c-4c0b-eb2c-5b027b825872"
   },
   "outputs": [
    {
     "name": "stdout",
     "output_type": "stream",
     "text": [
      "Model: \"sequential\"\n",
      "_________________________________________________________________\n",
      "Layer (type)                 Output Shape              Param #   \n",
      "=================================================================\n",
      "embedding (Embedding)        (128, None, 510)          10380030  \n",
      "_________________________________________________________________\n",
      "simple_rnn (SimpleRNN)       (128, None, 1024)         1571840   \n",
      "_________________________________________________________________\n",
      "dense (Dense)                (128, None, 20353)        20861825  \n",
      "=================================================================\n",
      "Total params: 32,813,695\n",
      "Trainable params: 32,813,695\n",
      "Non-trainable params: 0\n",
      "_________________________________________________________________\n"
     ]
    }
   ],
   "source": [
    "simple_rnn = ModelRNN(w2v, BATCH_SIZE, UNITS, NEUROS, RATE)\n",
    "\n",
    "simple_rnn.summary()"
   ]
  },
  {
   "cell_type": "markdown",
   "metadata": {
    "colab_type": "text",
    "id": "SPObHoKR8eU1"
   },
   "source": [
    "*Однослойная LSTM:*"
   ]
  },
  {
   "cell_type": "code",
   "execution_count": 0,
   "metadata": {
    "colab": {
     "base_uri": "https://localhost:8080/",
     "height": 255
    },
    "colab_type": "code",
    "id": "qQnSb4yW8eU3",
    "outputId": "d227acd5-79c2-42b0-8881-16c275ca5d20"
   },
   "outputs": [
    {
     "name": "stdout",
     "output_type": "stream",
     "text": [
      "Model: \"sequential_1\"\n",
      "_________________________________________________________________\n",
      "Layer (type)                 Output Shape              Param #   \n",
      "=================================================================\n",
      "embedding_1 (Embedding)      (128, None, 510)          10380030  \n",
      "_________________________________________________________________\n",
      "lstm (LSTM)                  (128, None, 1024)         6287360   \n",
      "_________________________________________________________________\n",
      "dense_1 (Dense)              (128, None, 20353)        20861825  \n",
      "=================================================================\n",
      "Total params: 37,529,215\n",
      "Trainable params: 37,529,215\n",
      "Non-trainable params: 0\n",
      "_________________________________________________________________\n"
     ]
    }
   ],
   "source": [
    "single_lstm = ModelSingleLSTM(w2v, BATCH_SIZE, UNITS, NEUROS, RATE)\n",
    "\n",
    "single_lstm.summary()"
   ]
  },
  {
   "cell_type": "markdown",
   "metadata": {
    "colab_type": "text",
    "id": "dz0KtbnR8eVH"
   },
   "source": [
    "*Двухслойная LSTM:*"
   ]
  },
  {
   "cell_type": "code",
   "execution_count": 0,
   "metadata": {
    "colab": {
     "base_uri": "https://localhost:8080/",
     "height": 289
    },
    "colab_type": "code",
    "id": "_aSz5mMx8eVI",
    "outputId": "3c9d6eb8-7a88-40a2-9678-fc88abaea737"
   },
   "outputs": [
    {
     "name": "stdout",
     "output_type": "stream",
     "text": [
      "Model: \"sequential_2\"\n",
      "_________________________________________________________________\n",
      "Layer (type)                 Output Shape              Param #   \n",
      "=================================================================\n",
      "embedding_2 (Embedding)      (128, None, 510)          10380030  \n",
      "_________________________________________________________________\n",
      "lstm_1 (LSTM)                (128, None, 1024)         6287360   \n",
      "_________________________________________________________________\n",
      "lstm_2 (LSTM)                (128, None, 1024)         8392704   \n",
      "_________________________________________________________________\n",
      "dense_2 (Dense)              (128, None, 20353)        20861825  \n",
      "=================================================================\n",
      "Total params: 45,921,919\n",
      "Trainable params: 45,921,919\n",
      "Non-trainable params: 0\n",
      "_________________________________________________________________\n"
     ]
    }
   ],
   "source": [
    "double_lstm = ModelDoubleLSTM(w2v, BATCH_SIZE, UNITS, NEUROS, RATE)\n",
    "\n",
    "double_lstm.summary()"
   ]
  },
  {
   "cell_type": "markdown",
   "metadata": {
    "colab_type": "text",
    "id": "MUxEGVnR8eVs"
   },
   "source": [
    "*Однослойная GRU:*"
   ]
  },
  {
   "cell_type": "code",
   "execution_count": 0,
   "metadata": {
    "colab": {
     "base_uri": "https://localhost:8080/",
     "height": 255
    },
    "colab_type": "code",
    "id": "jNt7NKcT8eVt",
    "outputId": "f40bb2ff-cfde-448e-c0f4-c0bab0c70993"
   },
   "outputs": [
    {
     "name": "stdout",
     "output_type": "stream",
     "text": [
      "Model: \"sequential_3\"\n",
      "_________________________________________________________________\n",
      "Layer (type)                 Output Shape              Param #   \n",
      "=================================================================\n",
      "embedding_3 (Embedding)      (128, None, 510)          10380030  \n",
      "_________________________________________________________________\n",
      "gru (GRU)                    (128, None, 1024)         4718592   \n",
      "_________________________________________________________________\n",
      "dense_3 (Dense)              (128, None, 20353)        20861825  \n",
      "=================================================================\n",
      "Total params: 35,960,447\n",
      "Trainable params: 35,960,447\n",
      "Non-trainable params: 0\n",
      "_________________________________________________________________\n"
     ]
    }
   ],
   "source": [
    "single_gru = ModelGRU(w2v, BATCH_SIZE, UNITS, NEUROS, RATE)\n",
    "\n",
    "single_gru.summary()"
   ]
  },
  {
   "cell_type": "markdown",
   "metadata": {
    "colab_type": "text",
    "id": "ZAWhHaMq8eWK"
   },
   "source": [
    "Скомпилируем, используя стандартный оптимизатор Адама. В качестве функции потерь используем описанную выше кроссэнтропию."
   ]
  },
  {
   "cell_type": "code",
   "execution_count": 0,
   "metadata": {
    "colab": {},
    "colab_type": "code",
    "id": "IFUlr4Qi8eWT"
   },
   "outputs": [],
   "source": [
    "simple_rnn.compile(optimizer='adam', loss=loss)\n",
    "single_lstm.compile(optimizer='adam', loss=loss)\n",
    "double_lstm.compile(optimizer='adam', loss=loss)\n",
    "single_gru.compile(optimizer='adam', loss=loss)"
   ]
  },
  {
   "cell_type": "markdown",
   "metadata": {
    "colab_type": "text",
    "id": "e4qAlzhB8eWj"
   },
   "source": [
    "Обучим модели, используя раннюю остановку при достижении хорошего результата."
   ]
  },
  {
   "cell_type": "code",
   "execution_count": 0,
   "metadata": {
    "colab": {
     "base_uri": "https://localhost:8080/",
     "height": 1000
    },
    "colab_type": "code",
    "id": "R3i-FZje8eWk",
    "outputId": "530e57a2-ef1d-4614-8578-453520c5c135",
    "scrolled": true
   },
   "outputs": [
    {
     "name": "stdout",
     "output_type": "stream",
     "text": [
      "Обучение полносвязной RNN модели:\n",
      "Epoch 1/90\n",
      "174/174 [==============================] - 51s 292ms/step - loss: 6.0801\n",
      "Epoch 2/90\n",
      "174/174 [==============================] - 51s 293ms/step - loss: 5.1007\n",
      "Epoch 3/90\n",
      "174/174 [==============================] - 51s 292ms/step - loss: 4.6919\n",
      "Epoch 4/90\n",
      "174/174 [==============================] - 51s 293ms/step - loss: 4.4072\n",
      "Epoch 5/90\n",
      "174/174 [==============================] - 51s 293ms/step - loss: 4.1703\n",
      "Epoch 6/90\n",
      "174/174 [==============================] - 51s 294ms/step - loss: 3.9608\n",
      "Epoch 7/90\n",
      "174/174 [==============================] - 51s 294ms/step - loss: 3.7682\n",
      "Epoch 8/90\n",
      "174/174 [==============================] - 51s 294ms/step - loss: 3.5926\n",
      "Epoch 9/90\n",
      "174/174 [==============================] - 51s 294ms/step - loss: 3.4243\n",
      "Epoch 10/90\n",
      "174/174 [==============================] - 51s 294ms/step - loss: 3.2709\n",
      "Epoch 11/90\n",
      "174/174 [==============================] - 51s 294ms/step - loss: 3.1290\n",
      "Epoch 12/90\n",
      "174/174 [==============================] - 51s 293ms/step - loss: 3.0023\n",
      "Epoch 13/90\n",
      "174/174 [==============================] - 51s 293ms/step - loss: 2.8803\n",
      "Epoch 14/90\n",
      "174/174 [==============================] - 51s 294ms/step - loss: 2.7777\n",
      "Epoch 15/90\n",
      "174/174 [==============================] - 51s 293ms/step - loss: 2.6745\n",
      "Epoch 16/90\n",
      "174/174 [==============================] - 51s 293ms/step - loss: 2.5811\n",
      "Epoch 17/90\n",
      "174/174 [==============================] - 51s 294ms/step - loss: 2.5184\n",
      "Epoch 18/90\n",
      "174/174 [==============================] - 51s 294ms/step - loss: 2.4237\n",
      "Epoch 19/90\n",
      "174/174 [==============================] - 51s 294ms/step - loss: 2.3568\n",
      "Epoch 20/90\n",
      "174/174 [==============================] - 51s 294ms/step - loss: 2.2914\n",
      "Epoch 21/90\n",
      "174/174 [==============================] - 51s 294ms/step - loss: 2.2440\n",
      "Epoch 22/90\n",
      "174/174 [==============================] - 51s 294ms/step - loss: 2.1752\n",
      "Epoch 23/90\n",
      "174/174 [==============================] - 51s 293ms/step - loss: 2.1253\n",
      "Epoch 24/90\n",
      "174/174 [==============================] - 51s 294ms/step - loss: 2.0889\n",
      "Epoch 25/90\n",
      "174/174 [==============================] - 51s 293ms/step - loss: 2.0636\n",
      "Epoch 26/90\n",
      "174/174 [==============================] - 51s 294ms/step - loss: 2.0130\n",
      "Epoch 27/90\n",
      "174/174 [==============================] - 51s 293ms/step - loss: 1.9731\n",
      "Epoch 28/90\n",
      "174/174 [==============================] - 51s 294ms/step - loss: 1.9445\n",
      "Epoch 29/90\n",
      "174/174 [==============================] - 51s 294ms/step - loss: 1.9135\n",
      "Epoch 30/90\n",
      "174/174 [==============================] - 51s 295ms/step - loss: 1.8875\n",
      "Epoch 31/90\n",
      "174/174 [==============================] - 51s 294ms/step - loss: 1.8628\n",
      "Epoch 32/90\n",
      "174/174 [==============================] - 51s 295ms/step - loss: 1.8444\n",
      "Epoch 33/90\n",
      "174/174 [==============================] - 51s 294ms/step - loss: 1.8219\n",
      "Epoch 34/90\n",
      "174/174 [==============================] - 51s 295ms/step - loss: 1.7995\n",
      "Epoch 35/90\n",
      "174/174 [==============================] - 51s 295ms/step - loss: 1.7819\n",
      "Epoch 36/90\n",
      "174/174 [==============================] - 51s 294ms/step - loss: 1.7719\n",
      "Epoch 37/90\n",
      "174/174 [==============================] - 51s 294ms/step - loss: 1.7512\n",
      "Epoch 38/90\n",
      "174/174 [==============================] - 51s 295ms/step - loss: 1.7431\n",
      "Epoch 39/90\n",
      "174/174 [==============================] - 51s 295ms/step - loss: 1.7180\n",
      "Epoch 40/90\n",
      "174/174 [==============================] - 51s 294ms/step - loss: 1.7115\n",
      "Epoch 41/90\n",
      "174/174 [==============================] - 51s 294ms/step - loss: 1.7056\n",
      "Epoch 42/90\n",
      "174/174 [==============================] - 51s 294ms/step - loss: 1.7049\n",
      "Epoch 43/90\n",
      "174/174 [==============================] - 51s 294ms/step - loss: 1.6838\n",
      "Epoch 44/90\n",
      "174/174 [==============================] - 51s 294ms/step - loss: 1.6667\n",
      "Epoch 45/90\n",
      "174/174 [==============================] - 51s 295ms/step - loss: 1.6554\n",
      "Epoch 46/90\n",
      "174/174 [==============================] - 51s 294ms/step - loss: 1.6496\n",
      "Epoch 47/90\n",
      "174/174 [==============================] - 50s 288ms/step - loss: 1.6618\n",
      "Epoch 48/90\n",
      "174/174 [==============================] - 50s 290ms/step - loss: 1.6945\n",
      "Epoch 49/90\n",
      "174/174 [==============================] - 51s 291ms/step - loss: 1.6593\n"
     ]
    }
   ],
   "source": [
    "print(\"Обучение полносвязной RNN модели:\")\n",
    "\n",
    "my_callbacks = [EarlyStopping(monitor=\"loss\", patience=3), checkpoint_creator(RNN_DIR)]\n",
    "simple_rnn_hist = simple_rnn.fit(dataset, epochs=EPOCHS, callbacks=my_callbacks)"
   ]
  },
  {
   "cell_type": "code",
   "execution_count": 0,
   "metadata": {
    "colab": {
     "base_uri": "https://localhost:8080/",
     "height": 1000
    },
    "colab_type": "code",
    "id": "K42Iy3mI8eWz",
    "outputId": "b7e6148f-9cd7-4fff-ff45-aa940f7be5b1"
   },
   "outputs": [
    {
     "name": "stdout",
     "output_type": "stream",
     "text": [
      "Обучение однослойной LSTM модели:\n",
      "Epoch 1/90\n",
      "174/174 [==============================] - 55s 314ms/step - loss: 6.2315\n",
      "Epoch 2/90\n",
      "174/174 [==============================] - 55s 316ms/step - loss: 5.3154\n",
      "Epoch 3/90\n",
      "174/174 [==============================] - 55s 315ms/step - loss: 4.9633\n",
      "Epoch 4/90\n",
      "174/174 [==============================] - 55s 316ms/step - loss: 4.7284\n",
      "Epoch 5/90\n",
      "174/174 [==============================] - 55s 316ms/step - loss: 4.5658\n",
      "Epoch 6/90\n",
      "174/174 [==============================] - 55s 314ms/step - loss: 4.4360\n",
      "Epoch 7/90\n",
      "174/174 [==============================] - 55s 315ms/step - loss: 4.3177\n",
      "Epoch 8/90\n",
      "174/174 [==============================] - 55s 315ms/step - loss: 4.2077\n",
      "Epoch 9/90\n",
      "174/174 [==============================] - 55s 316ms/step - loss: 4.1050\n",
      "Epoch 10/90\n",
      "174/174 [==============================] - 55s 315ms/step - loss: 4.0073\n",
      "Epoch 11/90\n",
      "174/174 [==============================] - 55s 315ms/step - loss: 3.9119\n",
      "Epoch 12/90\n",
      "174/174 [==============================] - 55s 316ms/step - loss: 3.8198\n",
      "Epoch 13/90\n",
      "174/174 [==============================] - 55s 316ms/step - loss: 3.7284\n",
      "Epoch 14/90\n",
      "174/174 [==============================] - 55s 315ms/step - loss: 3.6375\n",
      "Epoch 15/90\n",
      "174/174 [==============================] - 55s 316ms/step - loss: 3.5499\n",
      "Epoch 16/90\n",
      "174/174 [==============================] - 55s 316ms/step - loss: 3.4612\n",
      "Epoch 17/90\n",
      "174/174 [==============================] - 55s 317ms/step - loss: 3.3759\n",
      "Epoch 18/90\n",
      "174/174 [==============================] - 55s 316ms/step - loss: 3.2899\n",
      "Epoch 19/90\n",
      "174/174 [==============================] - 55s 315ms/step - loss: 3.2041\n",
      "Epoch 20/90\n",
      "174/174 [==============================] - 55s 315ms/step - loss: 3.1206\n",
      "Epoch 21/90\n",
      "174/174 [==============================] - 55s 316ms/step - loss: 3.0380\n",
      "Epoch 22/90\n",
      "174/174 [==============================] - 55s 315ms/step - loss: 2.9553\n",
      "Epoch 23/90\n",
      "174/174 [==============================] - 55s 316ms/step - loss: 2.8756\n",
      "Epoch 24/90\n",
      "174/174 [==============================] - 55s 316ms/step - loss: 2.7962\n",
      "Epoch 25/90\n",
      "174/174 [==============================] - 55s 316ms/step - loss: 2.7181\n",
      "Epoch 26/90\n",
      "174/174 [==============================] - 55s 316ms/step - loss: 2.6414\n",
      "Epoch 27/90\n",
      "174/174 [==============================] - 55s 316ms/step - loss: 2.5659\n",
      "Epoch 28/90\n",
      "174/174 [==============================] - 55s 315ms/step - loss: 2.4919\n",
      "Epoch 29/90\n",
      "174/174 [==============================] - 55s 316ms/step - loss: 2.4194\n",
      "Epoch 30/90\n",
      "174/174 [==============================] - 55s 315ms/step - loss: 2.3487\n",
      "Epoch 31/90\n",
      "174/174 [==============================] - 55s 315ms/step - loss: 2.2793\n",
      "Epoch 32/90\n",
      "174/174 [==============================] - 55s 316ms/step - loss: 2.2124\n",
      "Epoch 33/90\n",
      "174/174 [==============================] - 55s 317ms/step - loss: 2.1448\n",
      "Epoch 34/90\n",
      "174/174 [==============================] - 55s 317ms/step - loss: 2.0809\n",
      "Epoch 35/90\n",
      "174/174 [==============================] - 55s 315ms/step - loss: 2.0186\n",
      "Epoch 36/90\n",
      "174/174 [==============================] - 55s 315ms/step - loss: 1.9564\n",
      "Epoch 37/90\n",
      "174/174 [==============================] - 55s 316ms/step - loss: 1.8971\n",
      "Epoch 38/90\n",
      "174/174 [==============================] - 55s 316ms/step - loss: 1.8378\n",
      "Epoch 39/90\n",
      "174/174 [==============================] - 55s 315ms/step - loss: 1.7806\n",
      "Epoch 40/90\n",
      "174/174 [==============================] - 55s 314ms/step - loss: 1.7238\n",
      "Epoch 41/90\n",
      "174/174 [==============================] - 55s 315ms/step - loss: 1.6712\n",
      "Epoch 42/90\n",
      "174/174 [==============================] - 55s 316ms/step - loss: 1.6198\n",
      "Epoch 43/90\n",
      "174/174 [==============================] - 55s 315ms/step - loss: 1.5694\n",
      "Epoch 44/90\n",
      "174/174 [==============================] - 55s 316ms/step - loss: 1.5198\n",
      "Epoch 45/90\n",
      "174/174 [==============================] - 55s 315ms/step - loss: 1.4722\n",
      "Epoch 46/90\n",
      "174/174 [==============================] - 55s 316ms/step - loss: 1.4246\n",
      "Epoch 47/90\n",
      "174/174 [==============================] - 55s 315ms/step - loss: 1.3802\n",
      "Epoch 48/90\n",
      "174/174 [==============================] - 55s 315ms/step - loss: 1.3352\n",
      "Epoch 49/90\n",
      "174/174 [==============================] - 55s 316ms/step - loss: 1.2926\n",
      "Epoch 50/90\n",
      "174/174 [==============================] - 55s 316ms/step - loss: 1.2513\n",
      "Epoch 51/90\n",
      "174/174 [==============================] - 55s 316ms/step - loss: 1.2126\n",
      "Epoch 52/90\n",
      "174/174 [==============================] - 55s 314ms/step - loss: 1.1756\n",
      "Epoch 53/90\n",
      "174/174 [==============================] - 55s 315ms/step - loss: 1.1363\n",
      "Epoch 54/90\n",
      "174/174 [==============================] - 55s 316ms/step - loss: 1.0985\n",
      "Epoch 55/90\n",
      "174/174 [==============================] - 55s 316ms/step - loss: 1.0621\n",
      "Epoch 56/90\n",
      "174/174 [==============================] - 55s 315ms/step - loss: 1.0301\n",
      "Epoch 57/90\n",
      "174/174 [==============================] - 55s 315ms/step - loss: 0.9965\n",
      "Epoch 58/90\n",
      "174/174 [==============================] - 55s 315ms/step - loss: 0.9635\n",
      "Epoch 59/90\n",
      "174/174 [==============================] - 55s 315ms/step - loss: 0.9335\n",
      "Epoch 60/90\n",
      "174/174 [==============================] - 55s 316ms/step - loss: 0.9030\n",
      "Epoch 61/90\n",
      "174/174 [==============================] - 55s 316ms/step - loss: 0.8737\n",
      "Epoch 62/90\n",
      "174/174 [==============================] - 55s 315ms/step - loss: 0.8450\n",
      "Epoch 63/90\n",
      "174/174 [==============================] - 55s 315ms/step - loss: 0.8180\n",
      "Epoch 64/90\n",
      "174/174 [==============================] - 55s 315ms/step - loss: 0.7927\n",
      "Epoch 65/90\n",
      "174/174 [==============================] - 55s 316ms/step - loss: 0.7665\n",
      "Epoch 66/90\n",
      "174/174 [==============================] - 55s 316ms/step - loss: 0.7417\n",
      "Epoch 67/90\n",
      "174/174 [==============================] - 55s 315ms/step - loss: 0.7173\n",
      "Epoch 68/90\n",
      "174/174 [==============================] - 55s 317ms/step - loss: 0.6952\n",
      "Epoch 69/90\n",
      "174/174 [==============================] - 55s 315ms/step - loss: 0.6709\n",
      "Epoch 70/90\n",
      "174/174 [==============================] - 55s 315ms/step - loss: 0.6491\n",
      "Epoch 71/90\n",
      "174/174 [==============================] - 55s 317ms/step - loss: 0.6308\n",
      "Epoch 72/90\n",
      "174/174 [==============================] - 55s 316ms/step - loss: 0.6099\n",
      "Epoch 73/90\n",
      "174/174 [==============================] - 55s 316ms/step - loss: 0.5887\n",
      "Epoch 74/90\n",
      "174/174 [==============================] - 55s 315ms/step - loss: 0.5708\n",
      "Epoch 75/90\n",
      "174/174 [==============================] - 55s 315ms/step - loss: 0.5534\n",
      "Epoch 76/90\n",
      "174/174 [==============================] - 55s 316ms/step - loss: 0.5379\n",
      "Epoch 77/90\n",
      "174/174 [==============================] - 55s 315ms/step - loss: 0.5204\n",
      "Epoch 78/90\n",
      "174/174 [==============================] - 55s 318ms/step - loss: 0.5025\n",
      "Epoch 79/90\n",
      "174/174 [==============================] - 55s 318ms/step - loss: 0.4862\n",
      "Epoch 80/90\n",
      "174/174 [==============================] - 55s 318ms/step - loss: 0.4710\n",
      "Epoch 81/90\n",
      "174/174 [==============================] - 55s 317ms/step - loss: 0.4551\n",
      "Epoch 82/90\n",
      "174/174 [==============================] - 55s 317ms/step - loss: 0.4405\n",
      "Epoch 83/90\n",
      "174/174 [==============================] - 55s 317ms/step - loss: 0.4277\n",
      "Epoch 84/90\n",
      "174/174 [==============================] - 55s 317ms/step - loss: 0.4171\n",
      "Epoch 85/90\n",
      "174/174 [==============================] - 55s 317ms/step - loss: 0.4067\n",
      "Epoch 86/90\n",
      "174/174 [==============================] - 55s 317ms/step - loss: 0.3936\n",
      "Epoch 87/90\n",
      "174/174 [==============================] - 55s 317ms/step - loss: 0.3779\n",
      "Epoch 88/90\n",
      "174/174 [==============================] - 55s 316ms/step - loss: 0.3672\n",
      "Epoch 89/90\n",
      "174/174 [==============================] - 55s 316ms/step - loss: 0.3566\n",
      "Epoch 90/90\n",
      "174/174 [==============================] - 55s 318ms/step - loss: 0.3487\n"
     ]
    }
   ],
   "source": [
    "print(\"Обучение однослойной LSTM модели:\")\n",
    "\n",
    "my_callbacks = [EarlyStopping(monitor=\"loss\", patience=3), checkpoint_creator(SINGLE_DIR)]\n",
    "single_lstm_hist = single_lstm.fit(dataset, epochs=EPOCHS, callbacks=my_callbacks)"
   ]
  },
  {
   "cell_type": "code",
   "execution_count": 0,
   "metadata": {
    "colab": {
     "base_uri": "https://localhost:8080/",
     "height": 1000
    },
    "colab_type": "code",
    "id": "UdudED1J8eXL",
    "outputId": "559489cc-bc15-4d51-cd3b-1c2dcf7a546f"
   },
   "outputs": [
    {
     "name": "stdout",
     "output_type": "stream",
     "text": [
      "Обучение двухслойной LSTM модели:\n",
      "Epoch 1/90\n",
      "174/174 [==============================] - 67s 388ms/step - loss: 6.5878\n",
      "Epoch 2/90\n",
      "174/174 [==============================] - 67s 386ms/step - loss: 6.1277\n",
      "Epoch 3/90\n",
      "174/174 [==============================] - 67s 387ms/step - loss: 5.7320\n",
      "Epoch 4/90\n",
      "174/174 [==============================] - 67s 386ms/step - loss: 5.4157\n",
      "Epoch 5/90\n",
      "174/174 [==============================] - 67s 387ms/step - loss: 5.2170\n",
      "Epoch 6/90\n",
      "174/174 [==============================] - 67s 386ms/step - loss: 5.0735\n",
      "Epoch 7/90\n",
      "174/174 [==============================] - 67s 385ms/step - loss: 4.9510\n",
      "Epoch 8/90\n",
      "174/174 [==============================] - 67s 386ms/step - loss: 4.8398\n",
      "Epoch 9/90\n",
      "174/174 [==============================] - 67s 384ms/step - loss: 4.7197\n",
      "Epoch 10/90\n",
      "174/174 [==============================] - 67s 385ms/step - loss: 4.5994\n",
      "Epoch 11/90\n",
      "174/174 [==============================] - 67s 385ms/step - loss: 4.5021\n",
      "Epoch 12/90\n",
      "174/174 [==============================] - 67s 386ms/step - loss: 4.4077\n",
      "Epoch 13/90\n",
      "174/174 [==============================] - 67s 385ms/step - loss: 4.3095\n",
      "Epoch 14/90\n",
      "174/174 [==============================] - 67s 385ms/step - loss: 4.2075\n",
      "Epoch 15/90\n",
      "174/174 [==============================] - 67s 384ms/step - loss: 4.0995\n",
      "Epoch 16/90\n",
      "174/174 [==============================] - 67s 385ms/step - loss: 3.9873\n",
      "Epoch 17/90\n",
      "174/174 [==============================] - 67s 386ms/step - loss: 3.8699\n",
      "Epoch 18/90\n",
      "174/174 [==============================] - 67s 386ms/step - loss: 3.7527\n",
      "Epoch 19/90\n",
      "174/174 [==============================] - 67s 384ms/step - loss: 3.6366\n",
      "Epoch 20/90\n",
      "174/174 [==============================] - 67s 386ms/step - loss: 3.5257\n",
      "Epoch 21/90\n",
      "174/174 [==============================] - 67s 385ms/step - loss: 3.4152\n",
      "Epoch 22/90\n",
      "174/174 [==============================] - 67s 386ms/step - loss: 3.3061\n",
      "Epoch 23/90\n",
      "174/174 [==============================] - 67s 385ms/step - loss: 3.1981\n",
      "Epoch 24/90\n",
      "174/174 [==============================] - 67s 386ms/step - loss: 3.0953\n",
      "Epoch 25/90\n",
      "174/174 [==============================] - 67s 386ms/step - loss: 2.9908\n",
      "Epoch 26/90\n",
      "174/174 [==============================] - 68s 388ms/step - loss: 2.8913\n",
      "Epoch 27/90\n",
      "174/174 [==============================] - 67s 384ms/step - loss: 2.7937\n",
      "Epoch 28/90\n",
      "174/174 [==============================] - 67s 386ms/step - loss: 2.6985\n",
      "Epoch 29/90\n",
      "174/174 [==============================] - 67s 385ms/step - loss: 2.6087\n",
      "Epoch 30/90\n",
      "174/174 [==============================] - 67s 385ms/step - loss: 2.5158\n",
      "Epoch 31/90\n",
      "174/174 [==============================] - 67s 385ms/step - loss: 2.4271\n",
      "Epoch 32/90\n",
      "174/174 [==============================] - 67s 384ms/step - loss: 2.3385\n",
      "Epoch 33/90\n",
      "174/174 [==============================] - 67s 386ms/step - loss: 2.2520\n",
      "Epoch 34/90\n",
      "174/174 [==============================] - 67s 386ms/step - loss: 2.1728\n",
      "Epoch 35/90\n",
      "174/174 [==============================] - 67s 385ms/step - loss: 2.0933\n",
      "Epoch 36/90\n",
      "174/174 [==============================] - 67s 386ms/step - loss: 2.0254\n",
      "Epoch 37/90\n",
      "174/174 [==============================] - 67s 386ms/step - loss: 1.9407\n",
      "Epoch 38/90\n",
      "174/174 [==============================] - 67s 386ms/step - loss: 1.8666\n",
      "Epoch 39/90\n",
      "174/174 [==============================] - 67s 385ms/step - loss: 1.7899\n",
      "Epoch 40/90\n",
      "174/174 [==============================] - 67s 385ms/step - loss: 1.7205\n",
      "Epoch 41/90\n",
      "174/174 [==============================] - 67s 386ms/step - loss: 1.6531\n",
      "Epoch 42/90\n",
      "174/174 [==============================] - 67s 386ms/step - loss: 1.5888\n",
      "Epoch 43/90\n",
      "174/174 [==============================] - 67s 385ms/step - loss: 1.5228\n",
      "Epoch 44/90\n",
      "174/174 [==============================] - 67s 385ms/step - loss: 1.4600\n",
      "Epoch 45/90\n",
      "174/174 [==============================] - 67s 386ms/step - loss: 1.3987\n",
      "Epoch 46/90\n",
      "174/174 [==============================] - 67s 386ms/step - loss: 1.3374\n",
      "Epoch 47/90\n",
      "174/174 [==============================] - 67s 384ms/step - loss: 1.2757\n",
      "Epoch 48/90\n",
      "174/174 [==============================] - 67s 384ms/step - loss: 1.2187\n",
      "Epoch 49/90\n",
      "174/174 [==============================] - 67s 385ms/step - loss: 1.1652\n",
      "Epoch 50/90\n",
      "174/174 [==============================] - 67s 385ms/step - loss: 1.1191\n",
      "Epoch 51/90\n",
      "174/174 [==============================] - 67s 384ms/step - loss: 1.0608\n",
      "Epoch 52/90\n",
      "174/174 [==============================] - 67s 385ms/step - loss: 1.0078\n",
      "Epoch 53/90\n",
      "174/174 [==============================] - 67s 386ms/step - loss: 0.9603\n",
      "Epoch 54/90\n",
      "174/174 [==============================] - 67s 385ms/step - loss: 0.9158\n",
      "Epoch 55/90\n",
      "174/174 [==============================] - 67s 386ms/step - loss: 0.8675\n",
      "Epoch 56/90\n",
      "174/174 [==============================] - 67s 385ms/step - loss: 0.8292\n",
      "Epoch 57/90\n",
      "174/174 [==============================] - 67s 386ms/step - loss: 0.7875\n",
      "Epoch 58/90\n",
      "174/174 [==============================] - 67s 386ms/step - loss: 0.7487\n",
      "Epoch 59/90\n",
      "174/174 [==============================] - 67s 386ms/step - loss: 0.7122\n",
      "Epoch 60/90\n",
      "174/174 [==============================] - 67s 385ms/step - loss: 0.6750\n",
      "Epoch 61/90\n",
      "174/174 [==============================] - 67s 385ms/step - loss: 0.6395\n",
      "Epoch 62/90\n",
      "174/174 [==============================] - 67s 385ms/step - loss: 0.6036\n",
      "Epoch 63/90\n",
      "174/174 [==============================] - 67s 386ms/step - loss: 0.5675\n",
      "Epoch 64/90\n",
      "174/174 [==============================] - 67s 386ms/step - loss: 0.5325\n",
      "Epoch 65/90\n",
      "174/174 [==============================] - 67s 384ms/step - loss: 0.5039\n",
      "Epoch 66/90\n",
      "174/174 [==============================] - 67s 386ms/step - loss: 0.4792\n",
      "Epoch 67/90\n",
      "174/174 [==============================] - 67s 386ms/step - loss: 0.4622\n",
      "Epoch 68/90\n",
      "174/174 [==============================] - 67s 385ms/step - loss: 0.4376\n",
      "Epoch 69/90\n",
      "174/174 [==============================] - 67s 385ms/step - loss: 0.4120\n",
      "Epoch 70/90\n",
      "174/174 [==============================] - 67s 386ms/step - loss: 0.3828\n",
      "Epoch 71/90\n",
      "174/174 [==============================] - 67s 386ms/step - loss: 0.3625\n",
      "Epoch 72/90\n",
      "174/174 [==============================] - 67s 387ms/step - loss: 0.3437\n",
      "Epoch 73/90\n",
      "174/174 [==============================] - 67s 386ms/step - loss: 0.3288\n",
      "Epoch 74/90\n",
      "174/174 [==============================] - 67s 385ms/step - loss: 0.3175\n",
      "Epoch 75/90\n",
      "174/174 [==============================] - 67s 386ms/step - loss: 0.3029\n",
      "Epoch 76/90\n",
      "174/174 [==============================] - 67s 386ms/step - loss: 0.2835\n",
      "Epoch 77/90\n",
      "174/174 [==============================] - 67s 386ms/step - loss: 0.2585\n",
      "Epoch 78/90\n",
      "174/174 [==============================] - 67s 385ms/step - loss: 0.2430\n",
      "Epoch 79/90\n",
      "174/174 [==============================] - 67s 386ms/step - loss: 0.2241\n",
      "Epoch 80/90\n",
      "174/174 [==============================] - 67s 386ms/step - loss: 0.2076\n",
      "Epoch 81/90\n",
      "174/174 [==============================] - 67s 386ms/step - loss: 0.1935\n",
      "Epoch 82/90\n",
      "174/174 [==============================] - 67s 386ms/step - loss: 0.1856\n",
      "Epoch 83/90\n",
      "174/174 [==============================] - 67s 385ms/step - loss: 0.1848\n",
      "Epoch 84/90\n",
      "174/174 [==============================] - 65s 375ms/step - loss: 0.1964\n",
      "Epoch 85/90\n",
      "174/174 [==============================] - 65s 376ms/step - loss: 0.3324\n",
      "Epoch 86/90\n",
      "174/174 [==============================] - 65s 376ms/step - loss: 0.4986\n"
     ]
    }
   ],
   "source": [
    "print(\"Обучение двухслойной LSTM модели:\")\n",
    "\n",
    "my_callbacks = [EarlyStopping(monitor=\"loss\", patience=3), checkpoint_creator(DOUBLE_DIR)]\n",
    "double_lstm_hist = double_lstm.fit(dataset, epochs=EPOCHS, callbacks=my_callbacks)"
   ]
  },
  {
   "cell_type": "code",
   "execution_count": 0,
   "metadata": {
    "colab": {
     "base_uri": "https://localhost:8080/",
     "height": 1000
    },
    "colab_type": "code",
    "id": "PIWwVD_38eXc",
    "outputId": "45b9ca2a-3166-4b1c-e3d8-c93343f5458f"
   },
   "outputs": [
    {
     "name": "stdout",
     "output_type": "stream",
     "text": [
      "Обучение однослойной GRU модели:\n",
      "Epoch 1/90\n",
      "174/174 [==============================] - 53s 304ms/step - loss: 5.9885\n",
      "Epoch 2/90\n",
      "174/174 [==============================] - 53s 305ms/step - loss: 5.1874\n",
      "Epoch 3/90\n",
      "174/174 [==============================] - 53s 305ms/step - loss: 4.8453\n",
      "Epoch 4/90\n",
      "174/174 [==============================] - 53s 306ms/step - loss: 4.5959\n",
      "Epoch 5/90\n",
      "174/174 [==============================] - 53s 307ms/step - loss: 4.3791\n",
      "Epoch 6/90\n",
      "174/174 [==============================] - 53s 306ms/step - loss: 4.1814\n",
      "Epoch 7/90\n",
      "174/174 [==============================] - 53s 306ms/step - loss: 3.9939\n",
      "Epoch 8/90\n",
      "174/174 [==============================] - 53s 306ms/step - loss: 3.8149\n",
      "Epoch 9/90\n",
      "174/174 [==============================] - 53s 306ms/step - loss: 3.6433\n",
      "Epoch 10/90\n",
      "174/174 [==============================] - 53s 305ms/step - loss: 3.4771\n",
      "Epoch 11/90\n",
      "174/174 [==============================] - 53s 306ms/step - loss: 3.3137\n",
      "Epoch 12/90\n",
      "174/174 [==============================] - 53s 306ms/step - loss: 3.1509\n",
      "Epoch 13/90\n",
      "174/174 [==============================] - 53s 305ms/step - loss: 2.9912\n",
      "Epoch 14/90\n",
      "174/174 [==============================] - 53s 306ms/step - loss: 2.8360\n",
      "Epoch 15/90\n",
      "174/174 [==============================] - 53s 305ms/step - loss: 2.6874\n",
      "Epoch 16/90\n",
      "174/174 [==============================] - 53s 306ms/step - loss: 2.5459\n",
      "Epoch 17/90\n",
      "174/174 [==============================] - 53s 305ms/step - loss: 2.4123\n",
      "Epoch 18/90\n",
      "174/174 [==============================] - 53s 306ms/step - loss: 2.2869\n",
      "Epoch 19/90\n",
      "174/174 [==============================] - 53s 307ms/step - loss: 2.1692\n",
      "Epoch 20/90\n",
      "174/174 [==============================] - 53s 305ms/step - loss: 2.0601\n",
      "Epoch 21/90\n",
      "174/174 [==============================] - 53s 306ms/step - loss: 1.9584\n",
      "Epoch 22/90\n",
      "174/174 [==============================] - 53s 305ms/step - loss: 1.8637\n",
      "Epoch 23/90\n",
      "174/174 [==============================] - 53s 306ms/step - loss: 1.7759\n",
      "Epoch 24/90\n",
      "174/174 [==============================] - 53s 306ms/step - loss: 1.6957\n",
      "Epoch 25/90\n",
      "174/174 [==============================] - 53s 304ms/step - loss: 1.6208\n",
      "Epoch 26/90\n",
      "174/174 [==============================] - 53s 304ms/step - loss: 1.5506\n",
      "Epoch 27/90\n",
      "174/174 [==============================] - 53s 304ms/step - loss: 1.4871\n",
      "Epoch 28/90\n",
      "174/174 [==============================] - 53s 305ms/step - loss: 1.4260\n",
      "Epoch 29/90\n",
      "174/174 [==============================] - 53s 305ms/step - loss: 1.3710\n",
      "Epoch 30/90\n",
      "174/174 [==============================] - 53s 307ms/step - loss: 1.3186\n",
      "Epoch 31/90\n",
      "174/174 [==============================] - 53s 305ms/step - loss: 1.2693\n",
      "Epoch 32/90\n",
      "174/174 [==============================] - 53s 305ms/step - loss: 1.2228\n",
      "Epoch 33/90\n",
      "174/174 [==============================] - 53s 306ms/step - loss: 1.1807\n",
      "Epoch 34/90\n",
      "174/174 [==============================] - 53s 306ms/step - loss: 1.1404\n",
      "Epoch 35/90\n",
      "174/174 [==============================] - 53s 306ms/step - loss: 1.1042\n",
      "Epoch 36/90\n",
      "174/174 [==============================] - 53s 307ms/step - loss: 1.0700\n",
      "Epoch 37/90\n",
      "174/174 [==============================] - 53s 307ms/step - loss: 1.0371\n",
      "Epoch 38/90\n",
      "174/174 [==============================] - 53s 306ms/step - loss: 1.0050\n",
      "Epoch 39/90\n",
      "174/174 [==============================] - 53s 306ms/step - loss: 0.9756\n",
      "Epoch 40/90\n",
      "174/174 [==============================] - 53s 306ms/step - loss: 0.9473\n",
      "Epoch 41/90\n",
      "174/174 [==============================] - 53s 307ms/step - loss: 0.9204\n",
      "Epoch 42/90\n",
      "174/174 [==============================] - 53s 307ms/step - loss: 0.8966\n",
      "Epoch 43/90\n",
      "174/174 [==============================] - 53s 306ms/step - loss: 0.8752\n",
      "Epoch 44/90\n",
      "174/174 [==============================] - 53s 306ms/step - loss: 0.8528\n",
      "Epoch 45/90\n",
      "174/174 [==============================] - 53s 307ms/step - loss: 0.8295\n",
      "Epoch 46/90\n",
      "174/174 [==============================] - 53s 306ms/step - loss: 0.8110\n",
      "Epoch 47/90\n",
      "174/174 [==============================] - 53s 307ms/step - loss: 0.7906\n",
      "Epoch 48/90\n",
      "174/174 [==============================] - 53s 306ms/step - loss: 0.7725\n",
      "Epoch 49/90\n",
      "174/174 [==============================] - 53s 307ms/step - loss: 0.7560\n",
      "Epoch 50/90\n",
      "174/174 [==============================] - 53s 307ms/step - loss: 0.7408\n",
      "Epoch 51/90\n",
      "174/174 [==============================] - 53s 307ms/step - loss: 0.7258\n",
      "Epoch 52/90\n",
      "174/174 [==============================] - 54s 308ms/step - loss: 0.7145\n",
      "Epoch 53/90\n",
      "174/174 [==============================] - 53s 306ms/step - loss: 0.6974\n",
      "Epoch 54/90\n",
      "174/174 [==============================] - 53s 307ms/step - loss: 0.6805\n",
      "Epoch 55/90\n",
      "174/174 [==============================] - 54s 308ms/step - loss: 0.6697\n",
      "Epoch 56/90\n",
      "174/174 [==============================] - 54s 308ms/step - loss: 0.6583\n",
      "Epoch 57/90\n",
      "174/174 [==============================] - 53s 307ms/step - loss: 0.6469\n",
      "Epoch 58/90\n",
      "174/174 [==============================] - 54s 308ms/step - loss: 0.6336\n",
      "Epoch 59/90\n",
      "174/174 [==============================] - 53s 306ms/step - loss: 0.6200\n",
      "Epoch 60/90\n",
      "174/174 [==============================] - 54s 308ms/step - loss: 0.6088\n",
      "Epoch 61/90\n",
      "174/174 [==============================] - 53s 306ms/step - loss: 0.5982\n",
      "Epoch 62/90\n",
      "174/174 [==============================] - 53s 307ms/step - loss: 0.5915\n",
      "Epoch 63/90\n",
      "174/174 [==============================] - 54s 308ms/step - loss: 0.5834\n",
      "Epoch 64/90\n",
      "174/174 [==============================] - 53s 307ms/step - loss: 0.5774\n",
      "Epoch 65/90\n",
      "174/174 [==============================] - 53s 307ms/step - loss: 0.5708\n",
      "Epoch 66/90\n",
      "174/174 [==============================] - 53s 307ms/step - loss: 0.5626\n",
      "Epoch 67/90\n",
      "174/174 [==============================] - 53s 306ms/step - loss: 0.5506\n",
      "Epoch 68/90\n",
      "174/174 [==============================] - 53s 306ms/step - loss: 0.5429\n",
      "Epoch 69/90\n",
      "174/174 [==============================] - 53s 306ms/step - loss: 0.5337\n",
      "Epoch 70/90\n",
      "174/174 [==============================] - 53s 305ms/step - loss: 0.5238\n",
      "Epoch 71/90\n",
      "174/174 [==============================] - 53s 307ms/step - loss: 0.5183\n",
      "Epoch 72/90\n",
      "174/174 [==============================] - 53s 306ms/step - loss: 0.5118\n",
      "Epoch 73/90\n",
      "174/174 [==============================] - 53s 306ms/step - loss: 0.5067\n",
      "Epoch 74/90\n",
      "174/174 [==============================] - 53s 306ms/step - loss: 0.5046\n",
      "Epoch 75/90\n",
      "174/174 [==============================] - 53s 307ms/step - loss: 0.5022\n",
      "Epoch 76/90\n",
      "174/174 [==============================] - 53s 307ms/step - loss: 0.4985\n",
      "Epoch 77/90\n",
      "174/174 [==============================] - 53s 306ms/step - loss: 0.4984\n",
      "Epoch 78/90\n",
      "174/174 [==============================] - 53s 306ms/step - loss: 0.4939\n",
      "Epoch 79/90\n",
      "174/174 [==============================] - 53s 307ms/step - loss: 0.4878\n",
      "Epoch 80/90\n",
      "174/174 [==============================] - 53s 306ms/step - loss: 0.4791\n",
      "Epoch 81/90\n",
      "174/174 [==============================] - 54s 308ms/step - loss: 0.4649\n",
      "Epoch 82/90\n",
      "174/174 [==============================] - 53s 307ms/step - loss: 0.4531\n",
      "Epoch 83/90\n",
      "174/174 [==============================] - 53s 306ms/step - loss: 0.4446\n",
      "Epoch 84/90\n",
      "174/174 [==============================] - 54s 308ms/step - loss: 0.4409\n",
      "Epoch 85/90\n",
      "174/174 [==============================] - 52s 300ms/step - loss: 0.4409\n",
      "Epoch 86/90\n",
      "174/174 [==============================] - 52s 300ms/step - loss: 0.4427\n",
      "Epoch 87/90\n",
      "174/174 [==============================] - 52s 300ms/step - loss: 0.4474\n"
     ]
    }
   ],
   "source": [
    "print(\"Обучение однослойной GRU модели:\")\n",
    "\n",
    "my_callbacks = [EarlyStopping(monitor=\"loss\", patience=3), checkpoint_creator(GRU_DIR)]\n",
    "single_gru_hist = single_gru.fit(dataset, epochs=EPOCHS, callbacks=my_callbacks)"
   ]
  },
  {
   "cell_type": "markdown",
   "metadata": {
    "colab_type": "text",
    "id": "pgGI0AaZ8eXt"
   },
   "source": [
    "Процес обучения можно представить на графике зависимости функционала потерь от количества эпох:"
   ]
  },
  {
   "cell_type": "code",
   "execution_count": 0,
   "metadata": {
    "colab": {
     "base_uri": "https://localhost:8080/",
     "height": 389
    },
    "colab_type": "code",
    "id": "kDD4CXEb8eXv",
    "outputId": "3a018ed9-7105-4137-b6e6-06f519d71499"
   },
   "outputs": [
    {
     "data": {
      "image/png": "[encoded data removed]",
      "text/plain": [
       "<Figure size 460.8x403.2 with 1 Axes>"
      ]
     },
     "metadata": {
      "tags": []
     },
     "output_type": "display_data"
    }
   ],
   "source": [
    "plt.plot(simple_rnn_hist.history['loss'])\n",
    "plt.plot(single_lstm_hist.history['loss'])\n",
    "plt.plot(double_lstm_hist.history['loss'])\n",
    "plt.plot(single_gru_hist.history['loss'], color = 'green')\n",
    "plt.title('Потери различных архетектур сетей')\n",
    "plt.ylabel('Потери')\n",
    "plt.xlabel('Количество эпох')\n",
    "plt.legend(['Полносвязная RNN', 'Однослойная LSTM', 'Двухслойная LSTM', \n",
    "            'Однослойная GRU'], loc='upper right')\n",
    "plt.show()"
   ]
  },
  {
   "cell_type": "markdown",
   "metadata": {
    "colab_type": "text",
    "id": "U_o-rGtq8eX8"
   },
   "source": [
    "### Демонстрация работы"
   ]
  },
  {
   "cell_type": "markdown",
   "metadata": {
    "colab_type": "text",
    "id": "8HN3LSvo8eX9"
   },
   "source": [
    "#### Подготовка модели"
   ]
  },
  {
   "cell_type": "markdown",
   "metadata": {
    "colab_type": "text",
    "id": "Iua6dapA8eYD"
   },
   "source": [
    "Полученные нами модели построены для обучения на пакетах размера **BATCH_SIZE**, однако при генерации текста мы отправляем в модель одну последовательность произвольного размера. Поэтому перестроим наши модели для еденичного размера пакета и загрузим в них веса обученных моделей из контрольных точек. "
   ]
  },
  {
   "cell_type": "code",
   "execution_count": 0,
   "metadata": {
    "colab": {},
    "colab_type": "code",
    "id": "06ORfxbZ8eYE"
   },
   "outputs": [],
   "source": [
    "checkpoint_dir = os.path.join(RNN_DIR, \"checkpoints/\")\n",
    "\n",
    "simple_rnn = ModelRNN(w2v, 1, UNITS, NEUROS, RATE)\n",
    "simple_rnn.load_weights(tf.train.latest_checkpoint(checkpoint_dir))\n",
    "simple_rnn.build(tf.TensorShape([1, None]))"
   ]
  },
  {
   "cell_type": "code",
   "execution_count": 0,
   "metadata": {
    "colab": {},
    "colab_type": "code",
    "id": "hrUl93QC8eYT"
   },
   "outputs": [],
   "source": [
    "checkpoint_dir = os.path.join(SINGLE_DIR, \"checkpoints/\")\n",
    "\n",
    "single_lstm = ModelSingleLSTM(w2v, 1, UNITS, NEUROS, RATE)\n",
    "single_lstm.load_weights(tf.train.latest_checkpoint(checkpoint_dir))\n",
    "single_lstm.build(tf.TensorShape([1, None]))"
   ]
  },
  {
   "cell_type": "code",
   "execution_count": 0,
   "metadata": {
    "colab": {},
    "colab_type": "code",
    "id": "tVmt7YoY8eYZ"
   },
   "outputs": [],
   "source": [
    "checkpoint_dir = os.path.join(DOUBLE_DIR, \"checkpoints/\")\n",
    "\n",
    "double_lstm = ModelDoubleLSTM(w2v, 1, UNITS, NEUROS, RATE)\n",
    "double_lstm.load_weights(tf.train.latest_checkpoint(checkpoint_dir))\n",
    "double_lstm.build(tf.TensorShape([1, None]))"
   ]
  },
  {
   "cell_type": "code",
   "execution_count": 0,
   "metadata": {
    "colab": {},
    "colab_type": "code",
    "id": "0zUSaET18eYq"
   },
   "outputs": [],
   "source": [
    "checkpoint_dir = os.path.join(GRU_DIR, \"checkpoints/\")\n",
    "\n",
    "single_gru = ModelGRU(w2v, 1, UNITS, NEUROS, RATE)\n",
    "single_gru.load_weights(tf.train.latest_checkpoint(checkpoint_dir))\n",
    "single_gru.build(tf.TensorShape([1, None]))"
   ]
  },
  {
   "cell_type": "markdown",
   "metadata": {
    "colab_type": "text",
    "id": "4jRAVoOq8eY5"
   },
   "source": [
    "Предсказанная рекуррентной моделью последовательность слов пред объединением в текст требует обработки. Простейшая функция обработки для обработки представлена здесь."
   ]
  },
  {
   "cell_type": "markdown",
   "metadata": {
    "colab_type": "text",
    "id": "GMCPFdUE8eY_"
   },
   "source": [
    "#### Сохранение моделей"
   ]
  },
  {
   "cell_type": "markdown",
   "metadata": {
    "colab_type": "text",
    "id": "2mTy39hf8eZA"
   },
   "source": [
    "Для того, что бы не обучать модели заново в будущем, сохраним их дл будущего использования."
   ]
  },
  {
   "cell_type": "code",
   "execution_count": 0,
   "metadata": {
    "colab": {},
    "colab_type": "code",
    "id": "eR1c8zd38eZB"
   },
   "outputs": [],
   "source": [
    "filename = os.path.join(RNN_DIR, \"simple_rnn.h5\")\n",
    "simple_rnn.save(filename)"
   ]
  },
  {
   "cell_type": "code",
   "execution_count": 0,
   "metadata": {
    "colab": {},
    "colab_type": "code",
    "id": "9YAZfKY28eZI"
   },
   "outputs": [],
   "source": [
    "filename = os.path.join(SINGLE_DIR, \"single_lstm.h5\")\n",
    "single_lstm.save(filename)"
   ]
  },
  {
   "cell_type": "code",
   "execution_count": 0,
   "metadata": {
    "colab": {},
    "colab_type": "code",
    "id": "_42NIf8B8eZP"
   },
   "outputs": [],
   "source": [
    "filename = os.path.join(DOUBLE_DIR, \"double_lstm.h5\")\n",
    "double_lstm.save(filename)"
   ]
  },
  {
   "cell_type": "code",
   "execution_count": 0,
   "metadata": {
    "colab": {},
    "colab_type": "code",
    "id": "YewoDUpr8eZV"
   },
   "outputs": [],
   "source": [
    "filename = os.path.join(GRU_DIR, \"single_gru.h5\")\n",
    "single_gru.save(filename)"
   ]
  },
  {
   "cell_type": "markdown",
   "metadata": {
    "colab_type": "text",
    "id": "dTrnhQ9z8eZ1"
   },
   "source": [
    "#### Генерация"
   ]
  },
  {
   "cell_type": "markdown",
   "metadata": {},
   "source": [
    "Простейший преобразователь."
   ]
  },
  {
   "cell_type": "code",
   "execution_count": 0,
   "metadata": {
    "colab": {},
    "colab_type": "code",
    "id": "b3DFBaFI8eZ2"
   },
   "outputs": [],
   "source": [
    "def list_to_text(words):\n",
    "  ans = \"\"\n",
    "  higher = False\n",
    "  puncts = {\".\", \",\", \":\", \"!\", \"?\", \";\", '\"', \"'\", \"’\"}\n",
    "  enders = {\".\", \"?\", \"!\"}\n",
    "  for word in words:\n",
    "    if higher:\n",
    "      word = word.capitalize()\n",
    "    if word in puncts:\n",
    "      ans += word\n",
    "    else:\n",
    "      ans += \" \" + word\n",
    "    \n",
    "    higher = False\n",
    "    if word in enders:\n",
    "      higher = True\n",
    "  return ans"
   ]
  },
  {
   "cell_type": "markdown",
   "metadata": {
    "colab_type": "text",
    "id": "M9eqGG2K8eaB"
   },
   "source": [
    "Основная функция генерации текста. Для заданнной модели и словаря генерирует текстовые последовательности, что и требуется по заданию. \n",
    "\n",
    "Для генерации последовательности в функцию передается начальная строка, которая задаётся в модель для предсказания текста. Этот текст пробразуется функцией выше в читаемый вид."
   ]
  },
  {
   "cell_type": "code",
   "execution_count": 0,
   "metadata": {
    "colab": {},
    "colab_type": "code",
    "id": "mwj2jCLg8eaP"
   },
   "outputs": [],
   "source": [
    "def generate_text(model, word2idx, idx2word, start_string, num_generate=20):\n",
    "  # Evaluation step (generating text using the learned model)\n",
    "  # Converting our start string to numbers (vectorizing)\n",
    "  seq = tokenize_text(start_string)\n",
    "\n",
    "  converter = lambda x: word_to_int(x, word2idx)\n",
    "  input_eval = list(map(converter, seq))\n",
    "\n",
    "  input_eval = tf.expand_dims(input_eval, 0)\n",
    "\n",
    "  # Empty string to store our results\n",
    "  text_generated = []\n",
    "  # Low temperatures results in more predictable text.\n",
    "  # Higher temperatures results in more surprising text.\n",
    "  # Experiment to find the best setting.\n",
    "  temperature = 1.25\n",
    "\n",
    "  # Here batch size == 1\n",
    "  model.reset_states()\n",
    "  for i in range(num_generate):\n",
    "      predictions = model(input_eval)\n",
    "      # remove the batch dimension\n",
    "      predictions = tf.squeeze(predictions, 0)\n",
    "\n",
    "      # using a categorical distribution to predict the character returned by the model\n",
    "      predictions = predictions / temperature\n",
    "      predicted_id = tf.random.categorical(predictions, num_samples=1)[-1,0].numpy()\n",
    "\n",
    "      # We pass the predicted character as the next input to the model\n",
    "      # along with the previous hidden state\n",
    "      input_eval = tf.expand_dims([predicted_id], 0)\n",
    "\n",
    "      text_generated.append(idx2word[predicted_id])\n",
    "\n",
    "  return start_string + list_to_text(text_generated)"
   ]
  },
  {
   "cell_type": "code",
   "execution_count": 0,
   "metadata": {
    "colab": {
     "base_uri": "https://localhost:8080/",
     "height": 54
    },
    "colab_type": "code",
    "id": "3_4-c6bD8eag",
    "outputId": "25fef7ec-5533-4fab-8105-dc7b49b51871"
   },
   "outputs": [
    {
     "data": {
      "text/plain": [
       "'I predict that it will be best of the circumstantial scandal, with the new friend Mr. Grimwig. Like this, some kind looking twice routed themselves above its originator, her better effect upon the face opposite intentions in his respect habitual feeling absolutely chance to extreme seriousness, he thought: one no'"
      ]
     },
     "execution_count": 129,
     "metadata": {
      "tags": []
     },
     "output_type": "execute_result"
    }
   ],
   "source": [
    "generate_text(simple_rnn, word2idx, idx2word, \"I predict that it will be\", 50)"
   ]
  },
  {
   "cell_type": "code",
   "execution_count": 0,
   "metadata": {
    "colab": {
     "base_uri": "https://localhost:8080/",
     "height": 54
    },
    "colab_type": "code",
    "id": "UO5sD07w8ean",
    "outputId": "26a557fb-61bc-4e6f-ac12-bbbf5f1eb0e9"
   },
   "outputs": [
    {
     "data": {
      "text/plain": [
       "'I predict that it will be out his heart, they parted behind the FIRST him too, so the expression ( alas! I repeat Dorian Gray with closed out where can’ t know where i know how came in September Dounia’ s stifling daily in what was nothing about him. ” she'"
      ]
     },
     "execution_count": 132,
     "metadata": {
      "tags": []
     },
     "output_type": "execute_result"
    }
   ],
   "source": [
    "generate_text(single_lstm, word2idx, idx2word, \"I predict that it will be\", 50)"
   ]
  },
  {
   "cell_type": "code",
   "execution_count": 0,
   "metadata": {
    "colab": {
     "base_uri": "https://localhost:8080/",
     "height": 54
    },
    "colab_type": "code",
    "id": "DdERnTSp8ebN",
    "outputId": "13fe624d-cec4-4598-97bc-ade078303113"
   },
   "outputs": [
    {
     "data": {
      "text/plain": [
       "\"I predict that it will be necessary that they lie, so fond of harm, that you would do sit down his usual, i must close to her supper for Avdotya Romanovna began all, as he had rented worse. Mortimer, according to find himself. The best. 'that for the\""
      ]
     },
     "execution_count": 138,
     "metadata": {
      "tags": []
     },
     "output_type": "execute_result"
    }
   ],
   "source": [
    "generate_text(double_lstm, word2idx, idx2word, \"I predict that it will be\", 50)"
   ]
  },
  {
   "cell_type": "code",
   "execution_count": 0,
   "metadata": {
    "colab": {
     "base_uri": "https://localhost:8080/",
     "height": 54
    },
    "colab_type": "code",
    "id": "BCze2UgM-Qwg",
    "outputId": "c4df88c4-f7e5-4389-9503-3596af756a74"
   },
   "outputs": [
    {
     "data": {
      "text/plain": [
       "'I predict that it will be too. She was fine day his eyes on, Vronsky felt at self-knowledge, who can promise? If anyone of his wont to ask of politics and motion, that Sviazhsky, i have something fine as well; it soon she added, the care of roses'"
      ]
     },
     "execution_count": 145,
     "metadata": {
      "tags": []
     },
     "output_type": "execute_result"
    }
   ],
   "source": [
    "generate_text(single_gru, word2idx, idx2word, \"I predict that it will be\", 50)"
   ]
  },
  {
   "cell_type": "markdown",
   "metadata": {
    "colab_type": "text",
    "id": "MEh9UL3b8ebi"
   },
   "source": [
    "### Итог"
   ]
  },
  {
   "cell_type": "markdown",
   "metadata": {
    "colab_type": "text",
    "id": "jqtZMO9E8ebk"
   },
   "source": [
    "В результате мы получили 4 нейронных сети с рекуррентными слоями различных архитектур и посмотрели на то, как каждая из них генерирует последовательности слов и можем оценить насколько сгенерированные последовательности похожи на те, которые производит человек. "
   ]
  },
  {
   "cell_type": "markdown",
   "metadata": {
    "colab_type": "text",
    "id": "ohh0VEb28ebt"
   },
   "source": [
    "Перед тем, как залить репозиторий на *GitHub*, я удалю все чекпоины и файлы моделей, котрые создавал в процессе, поскольку их вес слишком велик. Если вам действительно нужны полученные модели, удалите последнюю строчку кода, которая будет приямо под этой записью."
   ]
  },
  {
   "cell_type": "code",
   "execution_count": 1,
   "metadata": {
    "colab": {},
    "colab_type": "code",
    "id": "cF8OrwID8ebw"
   },
   "outputs": [],
   "source": [
    "rm -rf single_lstm full_rnn double_lstm single_gru"
   ]
  },
  {
   "cell_type": "markdown",
   "metadata": {
    "colab_type": "text",
    "id": "dBkGCq4S8ecI"
   },
   "source": [
    "<h5> <center>Сделано Бронниковым Максимом</center> </h5>\n",
    "<h5> <center>25.05.2020</center> </h5>"
   ]
  }
 ],
 "metadata": {
  "colab": {
   "collapsed_sections": [],
   "name": "GenerationP.ipynb",
   "provenance": []
  },
  "kernelspec": {
   "display_name": "Python 3",
   "language": "python",
   "name": "python3"
  },
  "language_info": {
   "codemirror_mode": {
    "name": "ipython",
    "version": 3
   },
   "file_extension": ".py",
   "mimetype": "text/x-python",
   "name": "python",
   "nbconvert_exporter": "python",
   "pygments_lexer": "ipython3",
   "version": "3.7.6"
  }
 },
 "nbformat": 4,
 "nbformat_minor": 1
}
